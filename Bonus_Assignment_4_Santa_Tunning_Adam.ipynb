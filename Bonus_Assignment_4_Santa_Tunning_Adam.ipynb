{
  "nbformat": 4,
  "nbformat_minor": 0,
  "metadata": {
    "colab": {
      "name": "Bonus Assignment 4_Santa_Tunning_Adam.ipynb",
      "provenance": [],
      "collapsed_sections": []
    },
    "kernelspec": {
      "name": "python3",
      "display_name": "Python 3"
    },
    "accelerator": "GPU"
  },
  "cells": [
    {
      "cell_type": "code",
      "metadata": {
        "id": "WZOloDbKCLzF"
      },
      "source": [
        "zip_path = '/content/drive/My\\ Drive/Dataset/Santa_image/santa-dataset.zip'\n",
        "\n",
        "!cp {zip_path} /content/\n",
        "\n",
        "!cd /content/\n",
        "\n",
        "!unzip -q /content/santa-dataset.zip -d /content\n",
        "\n",
        "!rm /content/santa-dataset.zip"
      ],
      "execution_count": null,
      "outputs": []
    },
    {
      "cell_type": "code",
      "metadata": {
        "id": "rIKYFpz6C8Mz"
      },
      "source": [
        "import numpy as np\n",
        "import os\n",
        "import matplotlib.pyplot as plt"
      ],
      "execution_count": null,
      "outputs": []
    },
    {
      "cell_type": "code",
      "metadata": {
        "id": "lQayMEyCC-qR"
      },
      "source": [
        "def plot_loss(history):\n",
        "  plt.plot(history.history['loss'], label='loss')\n",
        "  plt.plot(history.history['val_loss'], label='val_loss')\n",
        "  plt.xlabel('Epoch')\n",
        "  plt.ylabel('Loss')\n",
        "  plt.legend()\n",
        "  plt.grid(True)"
      ],
      "execution_count": null,
      "outputs": []
    },
    {
      "cell_type": "code",
      "metadata": {
        "id": "Ih4eR3IJDAr5",
        "outputId": "1ba14969-2c49-47ac-ac7f-1e092779c007",
        "colab": {
          "base_uri": "https://localhost:8080/",
          "height": 440
        }
      },
      "source": [
        "from tensorflow.keras.models import Sequential\n",
        "from tensorflow.keras.layers import Conv2D, MaxPooling2D, Dense, Flatten\n",
        "from tensorflow.keras.optimizers import Adam\n",
        "\n",
        "model = Sequential()\n",
        "model.add(Conv2D(32, (3, 3), activation='relu', kernel_initializer='glorot_uniform', padding='same', input_shape=(200, 200, 3)))\n",
        "model.add(MaxPooling2D((2, 2)))\n",
        "\n",
        "model.add(Conv2D(64, (3, 3), activation='relu', kernel_initializer='glorot_uniform', padding='same', input_shape=(200, 200, 3)))\n",
        "model.add(MaxPooling2D((2, 2)))\n",
        "\n",
        "model.add(Conv2D(128, (3, 3), activation='relu', kernel_initializer='glorot_uniform', padding='same', input_shape=(200, 200, 3)))\n",
        "model.add(MaxPooling2D((2, 2)))\n",
        "\n",
        "model.add(Flatten())\n",
        "\n",
        "model.add(Dense(128, activation='relu', kernel_initializer='glorot_uniform'))\n",
        "model.add(Dense(1, activation='sigmoid'))\n",
        "\n",
        "opt = Adam(lr=0.001, beta_1=0.9, beta_2=0.999, epsilon=1e-07, amsgrad=False)\n",
        "\n",
        "model.compile(optimizer=opt, loss='binary_crossentropy', metrics=['accuracy'])\n",
        "\n",
        "model.summary()"
      ],
      "execution_count": null,
      "outputs": [
        {
          "output_type": "stream",
          "text": [
            "Model: \"sequential\"\n",
            "_________________________________________________________________\n",
            "Layer (type)                 Output Shape              Param #   \n",
            "=================================================================\n",
            "conv2d (Conv2D)              (None, 200, 200, 32)      896       \n",
            "_________________________________________________________________\n",
            "max_pooling2d (MaxPooling2D) (None, 100, 100, 32)      0         \n",
            "_________________________________________________________________\n",
            "conv2d_1 (Conv2D)            (None, 100, 100, 64)      18496     \n",
            "_________________________________________________________________\n",
            "max_pooling2d_1 (MaxPooling2 (None, 50, 50, 64)        0         \n",
            "_________________________________________________________________\n",
            "conv2d_2 (Conv2D)            (None, 50, 50, 128)       73856     \n",
            "_________________________________________________________________\n",
            "max_pooling2d_2 (MaxPooling2 (None, 25, 25, 128)       0         \n",
            "_________________________________________________________________\n",
            "flatten (Flatten)            (None, 80000)             0         \n",
            "_________________________________________________________________\n",
            "dense (Dense)                (None, 128)               10240128  \n",
            "_________________________________________________________________\n",
            "dense_1 (Dense)              (None, 1)                 129       \n",
            "=================================================================\n",
            "Total params: 10,333,505\n",
            "Trainable params: 10,333,505\n",
            "Non-trainable params: 0\n",
            "_________________________________________________________________\n"
          ],
          "name": "stdout"
        }
      ]
    },
    {
      "cell_type": "code",
      "metadata": {
        "id": "17UDnxHkDG2Z",
        "outputId": "7e639357-4f30-4581-96f1-e101e1745bdd",
        "colab": {
          "base_uri": "https://localhost:8080/",
          "height": 50
        }
      },
      "source": [
        "dataset_dir = '/content/santa-dataset'\n",
        "\n",
        "from tensorflow.keras.preprocessing.image import ImageDataGenerator\n",
        "\n",
        "# datagen = ImageDataGenerator(rescale=1.0/255.0)\n",
        "train_datagen = ImageDataGenerator(rescale=1.0/255.0, width_shift_range=0.1, height_shift_range=0.1, horizontal_flip=True)\n",
        "test_datagen = ImageDataGenerator(rescale=1.0/255.0)\n",
        "\n",
        "train_iterator = train_datagen.flow_from_directory(os.path.join(dataset_dir, 'train'), class_mode='binary', batch_size=128, target_size=(200, 200))\n",
        "test_iterator = test_datagen.flow_from_directory(os.path.join(dataset_dir, 'test'), class_mode='binary', batch_size=128, target_size=(200, 200))"
      ],
      "execution_count": null,
      "outputs": [
        {
          "output_type": "stream",
          "text": [
            "Found 662 images belonging to 2 classes.\n",
            "Found 260 images belonging to 2 classes.\n"
          ],
          "name": "stdout"
        }
      ]
    },
    {
      "cell_type": "code",
      "metadata": {
        "id": "eh26T6JsDiBz",
        "outputId": "46c5a21b-7ae8-43a5-88c5-c1a7d1a923a5",
        "colab": {
          "base_uri": "https://localhost:8080/",
          "height": 1000
        }
      },
      "source": [
        "history_model_tunning = model.fit_generator(train_iterator, steps_per_epoch=len(train_iterator), validation_data=test_iterator, validation_steps=len(test_iterator), epochs=100)"
      ],
      "execution_count": null,
      "outputs": [
        {
          "output_type": "stream",
          "text": [
            "WARNING:tensorflow:From <ipython-input-8-1f33ffb6f417>:1: Model.fit_generator (from tensorflow.python.keras.engine.training) is deprecated and will be removed in a future version.\n",
            "Instructions for updating:\n",
            "Please use Model.fit, which supports generators.\n",
            "Epoch 1/100\n",
            "2/6 [=========>....................] - ETA: 0s - loss: 1.0022 - accuracy: 0.5156WARNING:tensorflow:Callbacks method `on_train_batch_end` is slow compared to the batch time (batch time: 0.0509s vs `on_train_batch_end` time: 0.0974s). Check your callbacks.\n",
            "6/6 [==============================] - 15s 3s/step - loss: 2.1452 - accuracy: 0.5015 - val_loss: 0.7644 - val_accuracy: 0.5000\n",
            "Epoch 2/100\n",
            "6/6 [==============================] - 16s 3s/step - loss: 0.6323 - accuracy: 0.5121 - val_loss: 0.5788 - val_accuracy: 0.7346\n",
            "Epoch 3/100\n",
            "6/6 [==============================] - 16s 3s/step - loss: 0.5224 - accuracy: 0.8021 - val_loss: 0.5584 - val_accuracy: 0.7500\n",
            "Epoch 4/100\n",
            "6/6 [==============================] - 17s 3s/step - loss: 0.4369 - accuracy: 0.8474 - val_loss: 0.4810 - val_accuracy: 0.8269\n",
            "Epoch 5/100\n",
            "6/6 [==============================] - 17s 3s/step - loss: 0.3643 - accuracy: 0.8746 - val_loss: 0.4013 - val_accuracy: 0.8538\n",
            "Epoch 6/100\n",
            "6/6 [==============================] - 17s 3s/step - loss: 0.3448 - accuracy: 0.8640 - val_loss: 0.5156 - val_accuracy: 0.8423\n",
            "Epoch 7/100\n",
            "6/6 [==============================] - 17s 3s/step - loss: 0.3166 - accuracy: 0.8776 - val_loss: 0.3326 - val_accuracy: 0.8962\n",
            "Epoch 8/100\n",
            "6/6 [==============================] - 17s 3s/step - loss: 0.2423 - accuracy: 0.9245 - val_loss: 0.2887 - val_accuracy: 0.9192\n",
            "Epoch 9/100\n",
            "6/6 [==============================] - 17s 3s/step - loss: 0.2182 - accuracy: 0.9154 - val_loss: 0.6236 - val_accuracy: 0.7615\n",
            "Epoch 10/100\n",
            "6/6 [==============================] - 17s 3s/step - loss: 0.2557 - accuracy: 0.8912 - val_loss: 0.5339 - val_accuracy: 0.8269\n",
            "Epoch 11/100\n",
            "6/6 [==============================] - 16s 3s/step - loss: 0.2041 - accuracy: 0.9184 - val_loss: 0.6406 - val_accuracy: 0.7808\n",
            "Epoch 12/100\n",
            "6/6 [==============================] - 16s 3s/step - loss: 0.2728 - accuracy: 0.8943 - val_loss: 0.2576 - val_accuracy: 0.9346\n",
            "Epoch 13/100\n",
            "6/6 [==============================] - 16s 3s/step - loss: 0.2127 - accuracy: 0.9275 - val_loss: 0.2455 - val_accuracy: 0.9115\n",
            "Epoch 14/100\n",
            "6/6 [==============================] - 19s 3s/step - loss: 0.2008 - accuracy: 0.9199 - val_loss: 0.3915 - val_accuracy: 0.9154\n",
            "Epoch 15/100\n",
            "6/6 [==============================] - 17s 3s/step - loss: 0.1413 - accuracy: 0.9456 - val_loss: 0.3539 - val_accuracy: 0.9115\n",
            "Epoch 16/100\n",
            "6/6 [==============================] - 16s 3s/step - loss: 0.1390 - accuracy: 0.9441 - val_loss: 0.2238 - val_accuracy: 0.9269\n",
            "Epoch 17/100\n",
            "6/6 [==============================] - 20s 3s/step - loss: 0.1092 - accuracy: 0.9622 - val_loss: 0.2163 - val_accuracy: 0.9346\n",
            "Epoch 18/100\n",
            "6/6 [==============================] - 18s 3s/step - loss: 0.0941 - accuracy: 0.9592 - val_loss: 0.2174 - val_accuracy: 0.9269\n",
            "Epoch 19/100\n",
            "6/6 [==============================] - 18s 3s/step - loss: 0.1004 - accuracy: 0.9668 - val_loss: 0.2550 - val_accuracy: 0.9269\n",
            "Epoch 20/100\n",
            "6/6 [==============================] - 20s 3s/step - loss: 0.1316 - accuracy: 0.9456 - val_loss: 0.4687 - val_accuracy: 0.8615\n",
            "Epoch 21/100\n",
            "6/6 [==============================] - 18s 3s/step - loss: 0.1479 - accuracy: 0.9426 - val_loss: 0.3380 - val_accuracy: 0.9000\n",
            "Epoch 22/100\n",
            "6/6 [==============================] - 17s 3s/step - loss: 0.1231 - accuracy: 0.9532 - val_loss: 0.2782 - val_accuracy: 0.9346\n",
            "Epoch 23/100\n",
            "6/6 [==============================] - 19s 3s/step - loss: 0.1072 - accuracy: 0.9668 - val_loss: 0.1887 - val_accuracy: 0.9308\n",
            "Epoch 24/100\n",
            "6/6 [==============================] - 19s 3s/step - loss: 0.1021 - accuracy: 0.9668 - val_loss: 0.2271 - val_accuracy: 0.9231\n",
            "Epoch 25/100\n",
            "6/6 [==============================] - 17s 3s/step - loss: 0.0791 - accuracy: 0.9773 - val_loss: 0.4826 - val_accuracy: 0.9077\n",
            "Epoch 26/100\n",
            "6/6 [==============================] - 16s 3s/step - loss: 0.0918 - accuracy: 0.9622 - val_loss: 0.2130 - val_accuracy: 0.9346\n",
            "Epoch 27/100\n",
            "6/6 [==============================] - 17s 3s/step - loss: 0.0668 - accuracy: 0.9758 - val_loss: 0.1904 - val_accuracy: 0.9192\n",
            "Epoch 28/100\n",
            "6/6 [==============================] - 16s 3s/step - loss: 0.0743 - accuracy: 0.9789 - val_loss: 0.1935 - val_accuracy: 0.9308\n",
            "Epoch 29/100\n",
            "6/6 [==============================] - 17s 3s/step - loss: 0.0591 - accuracy: 0.9758 - val_loss: 0.2853 - val_accuracy: 0.9269\n",
            "Epoch 30/100\n",
            "6/6 [==============================] - 16s 3s/step - loss: 0.0463 - accuracy: 0.9819 - val_loss: 0.2229 - val_accuracy: 0.9269\n",
            "Epoch 31/100\n",
            "6/6 [==============================] - 18s 3s/step - loss: 0.0492 - accuracy: 0.9879 - val_loss: 0.2028 - val_accuracy: 0.9308\n",
            "Epoch 32/100\n",
            "6/6 [==============================] - 16s 3s/step - loss: 0.0561 - accuracy: 0.9789 - val_loss: 0.2076 - val_accuracy: 0.9385\n",
            "Epoch 33/100\n",
            "6/6 [==============================] - 17s 3s/step - loss: 0.0491 - accuracy: 0.9804 - val_loss: 0.2510 - val_accuracy: 0.9269\n",
            "Epoch 34/100\n",
            "6/6 [==============================] - 17s 3s/step - loss: 0.0939 - accuracy: 0.9577 - val_loss: 0.2122 - val_accuracy: 0.9308\n",
            "Epoch 35/100\n",
            "6/6 [==============================] - 17s 3s/step - loss: 0.0826 - accuracy: 0.9653 - val_loss: 0.2262 - val_accuracy: 0.9346\n",
            "Epoch 36/100\n",
            "6/6 [==============================] - 16s 3s/step - loss: 0.0812 - accuracy: 0.9698 - val_loss: 0.2346 - val_accuracy: 0.9115\n",
            "Epoch 37/100\n",
            "6/6 [==============================] - 16s 3s/step - loss: 0.0521 - accuracy: 0.9789 - val_loss: 0.3118 - val_accuracy: 0.9308\n",
            "Epoch 38/100\n",
            "6/6 [==============================] - 16s 3s/step - loss: 0.0525 - accuracy: 0.9743 - val_loss: 0.2268 - val_accuracy: 0.9346\n",
            "Epoch 39/100\n",
            "6/6 [==============================] - 16s 3s/step - loss: 0.0654 - accuracy: 0.9698 - val_loss: 0.1926 - val_accuracy: 0.9346\n",
            "Epoch 40/100\n",
            "6/6 [==============================] - 19s 3s/step - loss: 0.0385 - accuracy: 0.9894 - val_loss: 0.3030 - val_accuracy: 0.9192\n",
            "Epoch 41/100\n",
            "6/6 [==============================] - 17s 3s/step - loss: 0.0272 - accuracy: 0.9909 - val_loss: 0.2509 - val_accuracy: 0.9423\n",
            "Epoch 42/100\n",
            "6/6 [==============================] - 16s 3s/step - loss: 0.0449 - accuracy: 0.9819 - val_loss: 0.3092 - val_accuracy: 0.9231\n",
            "Epoch 43/100\n",
            "6/6 [==============================] - 18s 3s/step - loss: 0.0380 - accuracy: 0.9849 - val_loss: 0.3114 - val_accuracy: 0.9192\n",
            "Epoch 44/100\n",
            "6/6 [==============================] - 17s 3s/step - loss: 0.0311 - accuracy: 0.9909 - val_loss: 0.2617 - val_accuracy: 0.9385\n",
            "Epoch 45/100\n",
            "6/6 [==============================] - 19s 3s/step - loss: 0.0158 - accuracy: 0.9955 - val_loss: 0.2672 - val_accuracy: 0.9346\n",
            "Epoch 46/100\n",
            "6/6 [==============================] - 17s 3s/step - loss: 0.0231 - accuracy: 0.9924 - val_loss: 0.2171 - val_accuracy: 0.9538\n",
            "Epoch 47/100\n",
            "6/6 [==============================] - 17s 3s/step - loss: 0.0371 - accuracy: 0.9849 - val_loss: 0.2158 - val_accuracy: 0.9308\n",
            "Epoch 48/100\n",
            "6/6 [==============================] - 16s 3s/step - loss: 0.0268 - accuracy: 0.9909 - val_loss: 0.4462 - val_accuracy: 0.9154\n",
            "Epoch 49/100\n",
            "6/6 [==============================] - 17s 3s/step - loss: 0.0331 - accuracy: 0.9909 - val_loss: 0.2458 - val_accuracy: 0.9346\n",
            "Epoch 50/100\n",
            "6/6 [==============================] - 16s 3s/step - loss: 0.0348 - accuracy: 0.9894 - val_loss: 0.2376 - val_accuracy: 0.9500\n",
            "Epoch 51/100\n",
            "6/6 [==============================] - 17s 3s/step - loss: 0.0254 - accuracy: 0.9909 - val_loss: 0.2660 - val_accuracy: 0.9423\n",
            "Epoch 52/100\n",
            "6/6 [==============================] - 16s 3s/step - loss: 0.0536 - accuracy: 0.9849 - val_loss: 0.2298 - val_accuracy: 0.9462\n",
            "Epoch 53/100\n",
            "6/6 [==============================] - 17s 3s/step - loss: 0.0679 - accuracy: 0.9758 - val_loss: 0.2487 - val_accuracy: 0.9346\n",
            "Epoch 54/100\n",
            "6/6 [==============================] - 17s 3s/step - loss: 0.0941 - accuracy: 0.9683 - val_loss: 0.3314 - val_accuracy: 0.9231\n",
            "Epoch 55/100\n",
            "6/6 [==============================] - 17s 3s/step - loss: 0.1048 - accuracy: 0.9683 - val_loss: 0.6455 - val_accuracy: 0.8615\n",
            "Epoch 56/100\n",
            "6/6 [==============================] - 15s 3s/step - loss: 0.0932 - accuracy: 0.9668 - val_loss: 0.3645 - val_accuracy: 0.9192\n",
            "Epoch 57/100\n",
            "6/6 [==============================] - 19s 3s/step - loss: 0.1189 - accuracy: 0.9532 - val_loss: 0.2059 - val_accuracy: 0.9308\n",
            "Epoch 58/100\n",
            "6/6 [==============================] - 16s 3s/step - loss: 0.0758 - accuracy: 0.9773 - val_loss: 0.2857 - val_accuracy: 0.9346\n",
            "Epoch 59/100\n",
            "6/6 [==============================] - 19s 3s/step - loss: 0.0499 - accuracy: 0.9834 - val_loss: 0.2221 - val_accuracy: 0.9346\n",
            "Epoch 60/100\n",
            "6/6 [==============================] - 17s 3s/step - loss: 0.0428 - accuracy: 0.9879 - val_loss: 0.1898 - val_accuracy: 0.9423\n",
            "Epoch 61/100\n",
            "6/6 [==============================] - 17s 3s/step - loss: 0.0295 - accuracy: 0.9940 - val_loss: 0.4823 - val_accuracy: 0.8923\n",
            "Epoch 62/100\n",
            "6/6 [==============================] - 18s 3s/step - loss: 0.0311 - accuracy: 0.9924 - val_loss: 0.2867 - val_accuracy: 0.9385\n",
            "Epoch 63/100\n",
            "6/6 [==============================] - 17s 3s/step - loss: 0.0320 - accuracy: 0.9849 - val_loss: 0.3932 - val_accuracy: 0.9269\n",
            "Epoch 64/100\n",
            "6/6 [==============================] - 16s 3s/step - loss: 0.0162 - accuracy: 0.9924 - val_loss: 0.3026 - val_accuracy: 0.9385\n",
            "Epoch 65/100\n",
            "6/6 [==============================] - 19s 3s/step - loss: 0.0195 - accuracy: 0.9940 - val_loss: 0.3508 - val_accuracy: 0.9346\n",
            "Epoch 66/100\n",
            "6/6 [==============================] - 16s 3s/step - loss: 0.0217 - accuracy: 0.9924 - val_loss: 0.2982 - val_accuracy: 0.9385\n",
            "Epoch 67/100\n",
            "6/6 [==============================] - 16s 3s/step - loss: 0.0145 - accuracy: 0.9955 - val_loss: 0.3240 - val_accuracy: 0.9231\n",
            "Epoch 68/100\n",
            "6/6 [==============================] - 16s 3s/step - loss: 0.0171 - accuracy: 0.9924 - val_loss: 0.3049 - val_accuracy: 0.9308\n",
            "Epoch 69/100\n",
            "6/6 [==============================] - 18s 3s/step - loss: 0.0102 - accuracy: 0.9985 - val_loss: 0.3154 - val_accuracy: 0.9462\n",
            "Epoch 70/100\n",
            "6/6 [==============================] - 16s 3s/step - loss: 0.0210 - accuracy: 0.9955 - val_loss: 0.3814 - val_accuracy: 0.9308\n",
            "Epoch 71/100\n",
            "6/6 [==============================] - 17s 3s/step - loss: 0.0145 - accuracy: 0.9940 - val_loss: 0.3873 - val_accuracy: 0.9269\n",
            "Epoch 72/100\n",
            "6/6 [==============================] - 16s 3s/step - loss: 0.0145 - accuracy: 0.9955 - val_loss: 0.2758 - val_accuracy: 0.9385\n",
            "Epoch 73/100\n",
            "6/6 [==============================] - 16s 3s/step - loss: 0.0353 - accuracy: 0.9864 - val_loss: 0.2426 - val_accuracy: 0.9462\n",
            "Epoch 74/100\n",
            "6/6 [==============================] - 19s 3s/step - loss: 0.0300 - accuracy: 0.9864 - val_loss: 0.3826 - val_accuracy: 0.9346\n",
            "Epoch 75/100\n",
            "6/6 [==============================] - 16s 3s/step - loss: 0.0238 - accuracy: 0.9940 - val_loss: 0.3168 - val_accuracy: 0.9423\n",
            "Epoch 76/100\n",
            "6/6 [==============================] - 16s 3s/step - loss: 0.0147 - accuracy: 0.9955 - val_loss: 0.3791 - val_accuracy: 0.9308\n",
            "Epoch 77/100\n",
            "6/6 [==============================] - 16s 3s/step - loss: 0.0117 - accuracy: 0.9985 - val_loss: 0.3182 - val_accuracy: 0.9385\n",
            "Epoch 78/100\n",
            "6/6 [==============================] - 16s 3s/step - loss: 0.0182 - accuracy: 0.9940 - val_loss: 0.4188 - val_accuracy: 0.9192\n",
            "Epoch 79/100\n",
            "6/6 [==============================] - 16s 3s/step - loss: 0.0129 - accuracy: 0.9940 - val_loss: 0.2834 - val_accuracy: 0.9385\n",
            "Epoch 80/100\n",
            "6/6 [==============================] - 16s 3s/step - loss: 0.0271 - accuracy: 0.9864 - val_loss: 0.3045 - val_accuracy: 0.9346\n",
            "Epoch 81/100\n",
            "6/6 [==============================] - 16s 3s/step - loss: 0.0256 - accuracy: 0.9924 - val_loss: 0.2778 - val_accuracy: 0.9423\n",
            "Epoch 82/100\n",
            "6/6 [==============================] - 16s 3s/step - loss: 0.0324 - accuracy: 0.9909 - val_loss: 0.2567 - val_accuracy: 0.9423\n",
            "Epoch 83/100\n",
            "6/6 [==============================] - 18s 3s/step - loss: 0.0297 - accuracy: 0.9894 - val_loss: 0.3776 - val_accuracy: 0.9231\n",
            "Epoch 84/100\n",
            "6/6 [==============================] - 16s 3s/step - loss: 0.0289 - accuracy: 0.9879 - val_loss: 0.3189 - val_accuracy: 0.9308\n",
            "Epoch 85/100\n",
            "6/6 [==============================] - 19s 3s/step - loss: 0.0167 - accuracy: 0.9970 - val_loss: 0.3028 - val_accuracy: 0.9308\n",
            "Epoch 86/100\n",
            "6/6 [==============================] - 18s 3s/step - loss: 0.0075 - accuracy: 1.0000 - val_loss: 0.4197 - val_accuracy: 0.9231\n",
            "Epoch 87/100\n",
            "6/6 [==============================] - 18s 3s/step - loss: 0.0085 - accuracy: 0.9985 - val_loss: 0.2850 - val_accuracy: 0.9385\n",
            "Epoch 88/100\n",
            "6/6 [==============================] - 16s 3s/step - loss: 0.0109 - accuracy: 0.9955 - val_loss: 0.4227 - val_accuracy: 0.9308\n",
            "Epoch 89/100\n",
            "6/6 [==============================] - 16s 3s/step - loss: 0.0094 - accuracy: 0.9970 - val_loss: 0.2943 - val_accuracy: 0.9462\n",
            "Epoch 90/100\n",
            "6/6 [==============================] - 16s 3s/step - loss: 0.0068 - accuracy: 1.0000 - val_loss: 0.3940 - val_accuracy: 0.9346\n",
            "Epoch 91/100\n",
            "6/6 [==============================] - 16s 3s/step - loss: 0.0104 - accuracy: 0.9970 - val_loss: 0.2642 - val_accuracy: 0.9538\n",
            "Epoch 92/100\n",
            "6/6 [==============================] - 15s 3s/step - loss: 0.0098 - accuracy: 0.9985 - val_loss: 0.4298 - val_accuracy: 0.9154\n",
            "Epoch 93/100\n",
            "6/6 [==============================] - 18s 3s/step - loss: 0.0078 - accuracy: 0.9985 - val_loss: 0.2890 - val_accuracy: 0.9385\n",
            "Epoch 94/100\n",
            "6/6 [==============================] - 16s 3s/step - loss: 0.0174 - accuracy: 0.9940 - val_loss: 0.4815 - val_accuracy: 0.9077\n",
            "Epoch 95/100\n",
            "6/6 [==============================] - 16s 3s/step - loss: 0.0080 - accuracy: 0.9985 - val_loss: 0.3043 - val_accuracy: 0.9423\n",
            "Epoch 96/100\n",
            "6/6 [==============================] - 16s 3s/step - loss: 0.0095 - accuracy: 0.9955 - val_loss: 0.5761 - val_accuracy: 0.9192\n",
            "Epoch 97/100\n",
            "6/6 [==============================] - 16s 3s/step - loss: 0.0105 - accuracy: 0.9970 - val_loss: 0.3669 - val_accuracy: 0.9308\n",
            "Epoch 98/100\n",
            "6/6 [==============================] - 17s 3s/step - loss: 0.0109 - accuracy: 0.9985 - val_loss: 0.5922 - val_accuracy: 0.9269\n",
            "Epoch 99/100\n",
            "6/6 [==============================] - 16s 3s/step - loss: 0.0224 - accuracy: 0.9955 - val_loss: 0.3296 - val_accuracy: 0.9462\n",
            "Epoch 100/100\n",
            "6/6 [==============================] - 18s 3s/step - loss: 0.0030 - accuracy: 1.0000 - val_loss: 0.3883 - val_accuracy: 0.9385\n"
          ],
          "name": "stdout"
        }
      ]
    },
    {
      "cell_type": "code",
      "metadata": {
        "id": "X5nbeqKyDnLk",
        "outputId": "44c9ad5e-1f62-4721-e63c-d44495cdb6c7",
        "colab": {
          "base_uri": "https://localhost:8080/",
          "height": 278
        }
      },
      "source": [
        "plot_loss(history_model_tunning)"
      ],
      "execution_count": null,
      "outputs": [
        {
          "output_type": "display_data",
          "data": {
            "image/png": "[encoded data removed]",
            "text/plain": [
              "<Figure size 432x288 with 1 Axes>"
            ]
          },
          "metadata": {
            "tags": [],
            "needs_background": "light"
          }
        }
      ]
    },
    {
      "cell_type": "code",
      "metadata": {
        "id": "NeCq_rK6PcTl",
        "outputId": "4c19995f-2c9f-49c9-c17f-e498e5e7c6b9",
        "colab": {
          "base_uri": "https://localhost:8080/",
          "height": 66
        }
      },
      "source": [
        "loss, accuracy = model.evaluate(test_iterator, verbose=2)\n",
        "\n",
        "print(\"Test accuracy:\", accuracy)\n",
        "print(\"Test loss:\", loss)"
      ],
      "execution_count": null,
      "outputs": [
        {
          "output_type": "stream",
          "text": [
            "3/3 - 2s - loss: 0.3883 - accuracy: 0.9385\n",
            "Test accuracy: 0.9384615421295166\n",
            "Test loss: 0.3883310854434967\n"
          ],
          "name": "stdout"
        }
      ]
    }
  ]
}