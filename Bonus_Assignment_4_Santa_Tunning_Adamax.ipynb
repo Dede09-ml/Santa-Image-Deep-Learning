{
  "nbformat": 4,
  "nbformat_minor": 0,
  "metadata": {
    "colab": {
      "name": "Bonus Assignment 4_Santa_Tunning_Adamax.ipynb",
      "provenance": [],
      "collapsed_sections": []
    },
    "kernelspec": {
      "name": "python3",
      "display_name": "Python 3"
    },
    "accelerator": "GPU"
  },
  "cells": [
    {
      "cell_type": "code",
      "metadata": {
        "id": "WZOloDbKCLzF"
      },
      "source": [
        "zip_path = '/content/drive/My\\ Drive/Dataset/Santa_image/santa-dataset.zip'\n",
        "\n",
        "!cp {zip_path} /content/\n",
        "\n",
        "!cd /content/\n",
        "\n",
        "!unzip -q /content/santa-dataset.zip -d /content\n",
        "\n",
        "!rm /content/santa-dataset.zip"
      ],
      "execution_count": null,
      "outputs": []
    },
    {
      "cell_type": "code",
      "metadata": {
        "id": "rIKYFpz6C8Mz"
      },
      "source": [
        "import numpy as np\n",
        "import os\n",
        "import matplotlib.pyplot as plt"
      ],
      "execution_count": null,
      "outputs": []
    },
    {
      "cell_type": "code",
      "metadata": {
        "id": "lQayMEyCC-qR"
      },
      "source": [
        "def plot_loss(history):\n",
        "  plt.plot(history.history['loss'], label='loss')\n",
        "  plt.plot(history.history['val_loss'], label='val_loss')\n",
        "  plt.xlabel('Epoch')\n",
        "  plt.ylabel('Loss')\n",
        "  plt.legend()\n",
        "  plt.grid(True)"
      ],
      "execution_count": null,
      "outputs": []
    },
    {
      "cell_type": "code",
      "metadata": {
        "id": "Ih4eR3IJDAr5",
        "outputId": "a3829d07-a4d5-4dab-d979-5a01b019affa",
        "colab": {
          "base_uri": "https://localhost:8080/",
          "height": 440
        }
      },
      "source": [
        "from tensorflow.keras.models import Sequential\n",
        "from tensorflow.keras.layers import Conv2D, MaxPooling2D, Dense, Flatten\n",
        "from tensorflow.keras.optimizers import Adamax\n",
        "\n",
        "model = Sequential()\n",
        "model.add(Conv2D(32, (3, 3), activation='relu', kernel_initializer='glorot_uniform', padding='same', input_shape=(200, 200, 3)))\n",
        "model.add(MaxPooling2D((2, 2)))\n",
        "\n",
        "model.add(Conv2D(64, (3, 3), activation='relu', kernel_initializer='glorot_uniform', padding='same', input_shape=(200, 200, 3)))\n",
        "model.add(MaxPooling2D((2, 2)))\n",
        "\n",
        "model.add(Conv2D(128, (3, 3), activation='relu', kernel_initializer='glorot_uniform', padding='same', input_shape=(200, 200, 3)))\n",
        "model.add(MaxPooling2D((2, 2)))\n",
        "\n",
        "model.add(Flatten())\n",
        "\n",
        "model.add(Dense(128, activation='relu', kernel_initializer='glorot_uniform'))\n",
        "model.add(Dense(1, activation='sigmoid'))\n",
        "\n",
        "opt = Adamax(lr=0.001, beta_1=0.9, beta_2=0.999, epsilon=1e-07)\n",
        "\n",
        "model.compile(optimizer=opt, loss='binary_crossentropy', metrics=['accuracy'])\n",
        "\n",
        "model.summary()"
      ],
      "execution_count": null,
      "outputs": [
        {
          "output_type": "stream",
          "text": [
            "Model: \"sequential\"\n",
            "_________________________________________________________________\n",
            "Layer (type)                 Output Shape              Param #   \n",
            "=================================================================\n",
            "conv2d (Conv2D)              (None, 200, 200, 32)      896       \n",
            "_________________________________________________________________\n",
            "max_pooling2d (MaxPooling2D) (None, 100, 100, 32)      0         \n",
            "_________________________________________________________________\n",
            "conv2d_1 (Conv2D)            (None, 100, 100, 64)      18496     \n",
            "_________________________________________________________________\n",
            "max_pooling2d_1 (MaxPooling2 (None, 50, 50, 64)        0         \n",
            "_________________________________________________________________\n",
            "conv2d_2 (Conv2D)            (None, 50, 50, 128)       73856     \n",
            "_________________________________________________________________\n",
            "max_pooling2d_2 (MaxPooling2 (None, 25, 25, 128)       0         \n",
            "_________________________________________________________________\n",
            "flatten (Flatten)            (None, 80000)             0         \n",
            "_________________________________________________________________\n",
            "dense (Dense)                (None, 128)               10240128  \n",
            "_________________________________________________________________\n",
            "dense_1 (Dense)              (None, 1)                 129       \n",
            "=================================================================\n",
            "Total params: 10,333,505\n",
            "Trainable params: 10,333,505\n",
            "Non-trainable params: 0\n",
            "_________________________________________________________________\n"
          ],
          "name": "stdout"
        }
      ]
    },
    {
      "cell_type": "code",
      "metadata": {
        "id": "17UDnxHkDG2Z",
        "outputId": "09b4f487-9ded-4cdd-c545-fbf310152ac1",
        "colab": {
          "base_uri": "https://localhost:8080/",
          "height": 50
        }
      },
      "source": [
        "dataset_dir = '/content/santa-dataset'\n",
        "\n",
        "from tensorflow.keras.preprocessing.image import ImageDataGenerator\n",
        "\n",
        "# datagen = ImageDataGenerator(rescale=1.0/255.0)\n",
        "train_datagen = ImageDataGenerator(rescale=1.0/255.0, width_shift_range=0.1, height_shift_range=0.1, horizontal_flip=True)\n",
        "test_datagen = ImageDataGenerator(rescale=1.0/255.0)\n",
        "\n",
        "train_iterator = train_datagen.flow_from_directory(os.path.join(dataset_dir, 'train'), class_mode='binary', batch_size=128, target_size=(200, 200))\n",
        "test_iterator = test_datagen.flow_from_directory(os.path.join(dataset_dir, 'test'), class_mode='binary', batch_size=128, target_size=(200, 200))"
      ],
      "execution_count": null,
      "outputs": [
        {
          "output_type": "stream",
          "text": [
            "Found 662 images belonging to 2 classes.\n",
            "Found 260 images belonging to 2 classes.\n"
          ],
          "name": "stdout"
        }
      ]
    },
    {
      "cell_type": "code",
      "metadata": {
        "id": "eh26T6JsDiBz",
        "outputId": "8408e224-0008-47f4-c423-b6b6920a0a38",
        "colab": {
          "base_uri": "https://localhost:8080/",
          "height": 1000
        }
      },
      "source": [
        "history_model_tunning = model.fit_generator(train_iterator, steps_per_epoch=len(train_iterator), validation_data=test_iterator, validation_steps=len(test_iterator), epochs=100)"
      ],
      "execution_count": null,
      "outputs": [
        {
          "output_type": "stream",
          "text": [
            "WARNING:tensorflow:From <ipython-input-6-1f33ffb6f417>:1: Model.fit_generator (from tensorflow.python.keras.engine.training) is deprecated and will be removed in a future version.\n",
            "Instructions for updating:\n",
            "Please use Model.fit, which supports generators.\n",
            "Epoch 1/100\n",
            "6/6 [==============================] - 18s 3s/step - loss: 1.4915 - accuracy: 0.5196 - val_loss: 0.7692 - val_accuracy: 0.5000\n",
            "Epoch 2/100\n",
            "6/6 [==============================] - 19s 3s/step - loss: 0.6892 - accuracy: 0.5166 - val_loss: 0.6589 - val_accuracy: 0.5000\n",
            "Epoch 3/100\n",
            "6/6 [==============================] - 16s 3s/step - loss: 0.6531 - accuracy: 0.5000 - val_loss: 0.6407 - val_accuracy: 0.5000\n",
            "Epoch 4/100\n",
            "6/6 [==============================] - 19s 3s/step - loss: 0.6147 - accuracy: 0.5000 - val_loss: 0.6117 - val_accuracy: 0.5000\n",
            "Epoch 5/100\n",
            "6/6 [==============================] - 17s 3s/step - loss: 0.5725 - accuracy: 0.5015 - val_loss: 0.5862 - val_accuracy: 0.5692\n",
            "Epoch 6/100\n",
            "6/6 [==============================] - 19s 3s/step - loss: 0.5251 - accuracy: 0.6873 - val_loss: 0.5543 - val_accuracy: 0.7654\n",
            "Epoch 7/100\n",
            "6/6 [==============================] - 19s 3s/step - loss: 0.4881 - accuracy: 0.8686 - val_loss: 0.5356 - val_accuracy: 0.7923\n",
            "Epoch 8/100\n",
            "6/6 [==============================] - 15s 3s/step - loss: 0.4513 - accuracy: 0.8671 - val_loss: 0.4881 - val_accuracy: 0.8462\n",
            "Epoch 9/100\n",
            "6/6 [==============================] - 17s 3s/step - loss: 0.4098 - accuracy: 0.8852 - val_loss: 0.4578 - val_accuracy: 0.8615\n",
            "Epoch 10/100\n",
            "6/6 [==============================] - 16s 3s/step - loss: 0.3732 - accuracy: 0.9018 - val_loss: 0.4357 - val_accuracy: 0.8846\n",
            "Epoch 11/100\n",
            "6/6 [==============================] - 17s 3s/step - loss: 0.3254 - accuracy: 0.8867 - val_loss: 0.4971 - val_accuracy: 0.8615\n",
            "Epoch 12/100\n",
            "6/6 [==============================] - 16s 3s/step - loss: 0.2980 - accuracy: 0.9033 - val_loss: 0.3637 - val_accuracy: 0.8923\n",
            "Epoch 13/100\n",
            "6/6 [==============================] - 16s 3s/step - loss: 0.2639 - accuracy: 0.9063 - val_loss: 0.3196 - val_accuracy: 0.9038\n",
            "Epoch 14/100\n",
            "6/6 [==============================] - 16s 3s/step - loss: 0.2558 - accuracy: 0.9048 - val_loss: 0.2999 - val_accuracy: 0.9077\n",
            "Epoch 15/100\n",
            "6/6 [==============================] - 16s 3s/step - loss: 0.2373 - accuracy: 0.9079 - val_loss: 0.3377 - val_accuracy: 0.9115\n",
            "Epoch 16/100\n",
            "6/6 [==============================] - 16s 3s/step - loss: 0.2241 - accuracy: 0.9320 - val_loss: 0.4714 - val_accuracy: 0.8577\n",
            "Epoch 17/100\n",
            "6/6 [==============================] - 16s 3s/step - loss: 0.2266 - accuracy: 0.9124 - val_loss: 0.3717 - val_accuracy: 0.8885\n",
            "Epoch 18/100\n",
            "6/6 [==============================] - 16s 3s/step - loss: 0.2266 - accuracy: 0.9079 - val_loss: 0.3444 - val_accuracy: 0.8962\n",
            "Epoch 19/100\n",
            "6/6 [==============================] - 17s 3s/step - loss: 0.2043 - accuracy: 0.9215 - val_loss: 0.2636 - val_accuracy: 0.9269\n",
            "Epoch 20/100\n",
            "6/6 [==============================] - 16s 3s/step - loss: 0.1755 - accuracy: 0.9441 - val_loss: 0.2544 - val_accuracy: 0.9231\n",
            "Epoch 21/100\n",
            "6/6 [==============================] - 18s 3s/step - loss: 0.1715 - accuracy: 0.9366 - val_loss: 0.2276 - val_accuracy: 0.9308\n",
            "Epoch 22/100\n",
            "6/6 [==============================] - 16s 3s/step - loss: 0.1752 - accuracy: 0.9366 - val_loss: 0.3029 - val_accuracy: 0.9115\n",
            "Epoch 23/100\n",
            "6/6 [==============================] - 19s 3s/step - loss: 0.1506 - accuracy: 0.9547 - val_loss: 0.2975 - val_accuracy: 0.9154\n",
            "Epoch 24/100\n",
            "6/6 [==============================] - 17s 3s/step - loss: 0.1375 - accuracy: 0.9502 - val_loss: 0.2982 - val_accuracy: 0.8962\n",
            "Epoch 25/100\n",
            "6/6 [==============================] - 16s 3s/step - loss: 0.1533 - accuracy: 0.9426 - val_loss: 0.2260 - val_accuracy: 0.9231\n",
            "Epoch 26/100\n",
            "6/6 [==============================] - 16s 3s/step - loss: 0.1637 - accuracy: 0.9335 - val_loss: 0.6079 - val_accuracy: 0.8115\n",
            "Epoch 27/100\n",
            "6/6 [==============================] - 16s 3s/step - loss: 0.2136 - accuracy: 0.9154 - val_loss: 0.3692 - val_accuracy: 0.9077\n",
            "Epoch 28/100\n",
            "6/6 [==============================] - 16s 3s/step - loss: 0.1708 - accuracy: 0.9396 - val_loss: 0.2542 - val_accuracy: 0.9308\n",
            "Epoch 29/100\n",
            "6/6 [==============================] - 16s 3s/step - loss: 0.1280 - accuracy: 0.9607 - val_loss: 0.2411 - val_accuracy: 0.9269\n",
            "Epoch 30/100\n",
            "6/6 [==============================] - 16s 3s/step - loss: 0.1225 - accuracy: 0.9577 - val_loss: 0.3319 - val_accuracy: 0.8962\n",
            "Epoch 31/100\n",
            "6/6 [==============================] - 17s 3s/step - loss: 0.1403 - accuracy: 0.9441 - val_loss: 0.2766 - val_accuracy: 0.9308\n",
            "Epoch 32/100\n",
            "6/6 [==============================] - 18s 3s/step - loss: 0.1632 - accuracy: 0.9305 - val_loss: 0.2626 - val_accuracy: 0.9346\n",
            "Epoch 33/100\n",
            "6/6 [==============================] - 15s 3s/step - loss: 0.1459 - accuracy: 0.9456 - val_loss: 0.2562 - val_accuracy: 0.9308\n",
            "Epoch 34/100\n",
            "6/6 [==============================] - 19s 3s/step - loss: 0.1379 - accuracy: 0.9471 - val_loss: 0.2467 - val_accuracy: 0.9308\n",
            "Epoch 35/100\n",
            "6/6 [==============================] - 19s 3s/step - loss: 0.1082 - accuracy: 0.9532 - val_loss: 0.2675 - val_accuracy: 0.9308\n",
            "Epoch 36/100\n",
            "6/6 [==============================] - 18s 3s/step - loss: 0.1179 - accuracy: 0.9547 - val_loss: 0.2481 - val_accuracy: 0.9346\n",
            "Epoch 37/100\n",
            "6/6 [==============================] - 18s 3s/step - loss: 0.1156 - accuracy: 0.9653 - val_loss: 0.2191 - val_accuracy: 0.9346\n",
            "Epoch 38/100\n",
            "6/6 [==============================] - 19s 3s/step - loss: 0.1242 - accuracy: 0.9592 - val_loss: 0.2404 - val_accuracy: 0.9385\n",
            "Epoch 39/100\n",
            "6/6 [==============================] - 15s 3s/step - loss: 0.0999 - accuracy: 0.9683 - val_loss: 0.2637 - val_accuracy: 0.9269\n",
            "Epoch 40/100\n",
            "6/6 [==============================] - 16s 3s/step - loss: 0.1114 - accuracy: 0.9577 - val_loss: 0.2787 - val_accuracy: 0.9269\n",
            "Epoch 41/100\n",
            "6/6 [==============================] - 15s 3s/step - loss: 0.1033 - accuracy: 0.9607 - val_loss: 0.2705 - val_accuracy: 0.9269\n",
            "Epoch 42/100\n",
            "6/6 [==============================] - 16s 3s/step - loss: 0.0999 - accuracy: 0.9622 - val_loss: 0.2382 - val_accuracy: 0.9192\n",
            "Epoch 43/100\n",
            "6/6 [==============================] - 16s 3s/step - loss: 0.1160 - accuracy: 0.9698 - val_loss: 0.2420 - val_accuracy: 0.9231\n",
            "Epoch 44/100\n",
            "6/6 [==============================] - 17s 3s/step - loss: 0.1377 - accuracy: 0.9471 - val_loss: 0.2485 - val_accuracy: 0.9385\n",
            "Epoch 45/100\n",
            "6/6 [==============================] - 17s 3s/step - loss: 0.1303 - accuracy: 0.9502 - val_loss: 0.2402 - val_accuracy: 0.9269\n",
            "Epoch 46/100\n",
            "6/6 [==============================] - 16s 3s/step - loss: 0.1186 - accuracy: 0.9592 - val_loss: 0.5188 - val_accuracy: 0.8462\n",
            "Epoch 47/100\n",
            "6/6 [==============================] - 19s 3s/step - loss: 0.1410 - accuracy: 0.9366 - val_loss: 0.2466 - val_accuracy: 0.9385\n",
            "Epoch 48/100\n",
            "6/6 [==============================] - 16s 3s/step - loss: 0.1170 - accuracy: 0.9607 - val_loss: 0.2437 - val_accuracy: 0.9231\n",
            "Epoch 49/100\n",
            "6/6 [==============================] - 16s 3s/step - loss: 0.1212 - accuracy: 0.9547 - val_loss: 0.2943 - val_accuracy: 0.9192\n",
            "Epoch 50/100\n",
            "6/6 [==============================] - 17s 3s/step - loss: 0.0948 - accuracy: 0.9668 - val_loss: 0.2503 - val_accuracy: 0.9231\n",
            "Epoch 51/100\n",
            "6/6 [==============================] - 17s 3s/step - loss: 0.1339 - accuracy: 0.9441 - val_loss: 0.1705 - val_accuracy: 0.9346\n",
            "Epoch 52/100\n",
            "6/6 [==============================] - 17s 3s/step - loss: 0.1114 - accuracy: 0.9577 - val_loss: 0.1831 - val_accuracy: 0.9346\n",
            "Epoch 53/100\n",
            "6/6 [==============================] - 17s 3s/step - loss: 0.1058 - accuracy: 0.9622 - val_loss: 0.3025 - val_accuracy: 0.9154\n",
            "Epoch 54/100\n",
            "6/6 [==============================] - 18s 3s/step - loss: 0.0907 - accuracy: 0.9743 - val_loss: 0.2126 - val_accuracy: 0.9346\n",
            "Epoch 55/100\n",
            "6/6 [==============================] - 17s 3s/step - loss: 0.0837 - accuracy: 0.9683 - val_loss: 0.2238 - val_accuracy: 0.9308\n",
            "Epoch 56/100\n",
            "6/6 [==============================] - 20s 3s/step - loss: 0.0851 - accuracy: 0.9713 - val_loss: 0.2388 - val_accuracy: 0.9192\n",
            "Epoch 57/100\n",
            "6/6 [==============================] - 18s 3s/step - loss: 0.0835 - accuracy: 0.9668 - val_loss: 0.1824 - val_accuracy: 0.9385\n",
            "Epoch 58/100\n",
            "6/6 [==============================] - 17s 3s/step - loss: 0.0828 - accuracy: 0.9683 - val_loss: 0.2154 - val_accuracy: 0.9308\n",
            "Epoch 59/100\n",
            "6/6 [==============================] - 18s 3s/step - loss: 0.0883 - accuracy: 0.9622 - val_loss: 0.2362 - val_accuracy: 0.9308\n",
            "Epoch 60/100\n",
            "6/6 [==============================] - 18s 3s/step - loss: 0.0710 - accuracy: 0.9773 - val_loss: 0.2180 - val_accuracy: 0.9346\n",
            "Epoch 61/100\n",
            "6/6 [==============================] - 17s 3s/step - loss: 0.0660 - accuracy: 0.9819 - val_loss: 0.1828 - val_accuracy: 0.9462\n",
            "Epoch 62/100\n",
            "6/6 [==============================] - 18s 3s/step - loss: 0.0732 - accuracy: 0.9804 - val_loss: 0.2021 - val_accuracy: 0.9385\n",
            "Epoch 63/100\n",
            "6/6 [==============================] - 17s 3s/step - loss: 0.0712 - accuracy: 0.9804 - val_loss: 0.2140 - val_accuracy: 0.9308\n",
            "Epoch 64/100\n",
            "6/6 [==============================] - 17s 3s/step - loss: 0.0644 - accuracy: 0.9804 - val_loss: 0.2019 - val_accuracy: 0.9308\n",
            "Epoch 65/100\n",
            "6/6 [==============================] - 17s 3s/step - loss: 0.0678 - accuracy: 0.9713 - val_loss: 0.1842 - val_accuracy: 0.9423\n",
            "Epoch 66/100\n",
            "6/6 [==============================] - 18s 3s/step - loss: 0.0813 - accuracy: 0.9668 - val_loss: 0.1791 - val_accuracy: 0.9462\n",
            "Epoch 67/100\n",
            "6/6 [==============================] - 17s 3s/step - loss: 0.0720 - accuracy: 0.9743 - val_loss: 0.2634 - val_accuracy: 0.9269\n",
            "Epoch 68/100\n",
            "6/6 [==============================] - 18s 3s/step - loss: 0.0709 - accuracy: 0.9789 - val_loss: 0.2668 - val_accuracy: 0.9269\n",
            "Epoch 69/100\n",
            "6/6 [==============================] - 18s 3s/step - loss: 0.0747 - accuracy: 0.9743 - val_loss: 0.1955 - val_accuracy: 0.9308\n",
            "Epoch 70/100\n",
            "6/6 [==============================] - 18s 3s/step - loss: 0.0762 - accuracy: 0.9698 - val_loss: 0.1757 - val_accuracy: 0.9423\n",
            "Epoch 71/100\n",
            "6/6 [==============================] - 21s 3s/step - loss: 0.0695 - accuracy: 0.9773 - val_loss: 0.2038 - val_accuracy: 0.9308\n",
            "Epoch 72/100\n",
            "6/6 [==============================] - 21s 3s/step - loss: 0.0592 - accuracy: 0.9819 - val_loss: 0.2104 - val_accuracy: 0.9269\n",
            "Epoch 73/100\n",
            "6/6 [==============================] - 18s 3s/step - loss: 0.0541 - accuracy: 0.9864 - val_loss: 0.1963 - val_accuracy: 0.9269\n",
            "Epoch 74/100\n",
            "6/6 [==============================] - 18s 3s/step - loss: 0.0554 - accuracy: 0.9879 - val_loss: 0.2105 - val_accuracy: 0.9308\n",
            "Epoch 75/100\n",
            "6/6 [==============================] - 20s 3s/step - loss: 0.0688 - accuracy: 0.9743 - val_loss: 0.1939 - val_accuracy: 0.9385\n",
            "Epoch 76/100\n",
            "6/6 [==============================] - 18s 3s/step - loss: 0.0625 - accuracy: 0.9819 - val_loss: 0.2048 - val_accuracy: 0.9385\n",
            "Epoch 77/100\n",
            "6/6 [==============================] - 18s 3s/step - loss: 0.0522 - accuracy: 0.9804 - val_loss: 0.1957 - val_accuracy: 0.9423\n",
            "Epoch 78/100\n",
            "6/6 [==============================] - 18s 3s/step - loss: 0.0501 - accuracy: 0.9834 - val_loss: 0.2265 - val_accuracy: 0.9269\n",
            "Epoch 79/100\n",
            "6/6 [==============================] - 18s 3s/step - loss: 0.0457 - accuracy: 0.9849 - val_loss: 0.2242 - val_accuracy: 0.9346\n",
            "Epoch 80/100\n",
            "6/6 [==============================] - 19s 3s/step - loss: 0.0506 - accuracy: 0.9849 - val_loss: 0.1906 - val_accuracy: 0.9423\n",
            "Epoch 81/100\n",
            "6/6 [==============================] - 17s 3s/step - loss: 0.0522 - accuracy: 0.9849 - val_loss: 0.1849 - val_accuracy: 0.9385\n",
            "Epoch 82/100\n",
            "6/6 [==============================] - 20s 3s/step - loss: 0.0705 - accuracy: 0.9758 - val_loss: 0.1697 - val_accuracy: 0.9500\n",
            "Epoch 83/100\n",
            "6/6 [==============================] - 18s 3s/step - loss: 0.0727 - accuracy: 0.9698 - val_loss: 0.3828 - val_accuracy: 0.9038\n",
            "Epoch 84/100\n",
            "6/6 [==============================] - 18s 3s/step - loss: 0.0633 - accuracy: 0.9773 - val_loss: 0.2269 - val_accuracy: 0.9308\n",
            "Epoch 85/100\n",
            "6/6 [==============================] - 18s 3s/step - loss: 0.0457 - accuracy: 0.9909 - val_loss: 0.2046 - val_accuracy: 0.9308\n",
            "Epoch 86/100\n",
            "6/6 [==============================] - 18s 3s/step - loss: 0.0396 - accuracy: 0.9909 - val_loss: 0.2099 - val_accuracy: 0.9308\n",
            "Epoch 87/100\n",
            "6/6 [==============================] - 21s 3s/step - loss: 0.0430 - accuracy: 0.9879 - val_loss: 0.2320 - val_accuracy: 0.9269\n",
            "Epoch 88/100\n",
            "6/6 [==============================] - 17s 3s/step - loss: 0.0382 - accuracy: 0.9879 - val_loss: 0.2341 - val_accuracy: 0.9308\n",
            "Epoch 89/100\n",
            "6/6 [==============================] - 17s 3s/step - loss: 0.0454 - accuracy: 0.9894 - val_loss: 0.1782 - val_accuracy: 0.9462\n",
            "Epoch 90/100\n",
            "6/6 [==============================] - 17s 3s/step - loss: 0.0405 - accuracy: 0.9849 - val_loss: 0.2023 - val_accuracy: 0.9385\n",
            "Epoch 91/100\n",
            "6/6 [==============================] - 18s 3s/step - loss: 0.0430 - accuracy: 0.9834 - val_loss: 0.2574 - val_accuracy: 0.9346\n",
            "Epoch 92/100\n",
            "6/6 [==============================] - 18s 3s/step - loss: 0.0454 - accuracy: 0.9819 - val_loss: 0.2165 - val_accuracy: 0.9346\n",
            "Epoch 93/100\n",
            "6/6 [==============================] - 18s 3s/step - loss: 0.0397 - accuracy: 0.9894 - val_loss: 0.2051 - val_accuracy: 0.9423\n",
            "Epoch 94/100\n",
            "6/6 [==============================] - 19s 3s/step - loss: 0.0295 - accuracy: 0.9940 - val_loss: 0.2058 - val_accuracy: 0.9423\n",
            "Epoch 95/100\n",
            "6/6 [==============================] - 18s 3s/step - loss: 0.0761 - accuracy: 0.9728 - val_loss: 0.1977 - val_accuracy: 0.9346\n",
            "Epoch 96/100\n",
            "6/6 [==============================] - 18s 3s/step - loss: 0.0669 - accuracy: 0.9713 - val_loss: 0.2147 - val_accuracy: 0.9385\n",
            "Epoch 97/100\n",
            "6/6 [==============================] - 18s 3s/step - loss: 0.0407 - accuracy: 0.9864 - val_loss: 0.2970 - val_accuracy: 0.9308\n",
            "Epoch 98/100\n",
            "6/6 [==============================] - 17s 3s/step - loss: 0.0438 - accuracy: 0.9864 - val_loss: 0.3061 - val_accuracy: 0.9192\n",
            "Epoch 99/100\n",
            "6/6 [==============================] - 19s 3s/step - loss: 0.0449 - accuracy: 0.9864 - val_loss: 0.1952 - val_accuracy: 0.9423\n",
            "Epoch 100/100\n",
            "6/6 [==============================] - 18s 3s/step - loss: 0.0325 - accuracy: 0.9924 - val_loss: 0.2140 - val_accuracy: 0.9423\n"
          ],
          "name": "stdout"
        }
      ]
    },
    {
      "cell_type": "code",
      "metadata": {
        "id": "X5nbeqKyDnLk",
        "outputId": "6c82a982-b0b6-4e88-ec18-1e5ba3a8b416",
        "colab": {
          "base_uri": "https://localhost:8080/",
          "height": 278
        }
      },
      "source": [
        "plot_loss(history_model_tunning)"
      ],
      "execution_count": null,
      "outputs": [
        {
          "output_type": "display_data",
          "data": {
            "image/png": "[encoded data removed]",
            "text/plain": [
              "<Figure size 432x288 with 1 Axes>"
            ]
          },
          "metadata": {
            "tags": [],
            "needs_background": "light"
          }
        }
      ]
    },
    {
      "cell_type": "code",
      "metadata": {
        "id": "NeCq_rK6PcTl",
        "outputId": "a7306399-b293-4681-e3bc-1691dd1dffa7",
        "colab": {
          "base_uri": "https://localhost:8080/",
          "height": 66
        }
      },
      "source": [
        "loss, accuracy = model.evaluate(test_iterator, verbose=2)\n",
        "\n",
        "print(\"Test accuracy:\", accuracy)\n",
        "print(\"Test loss:\", loss)"
      ],
      "execution_count": null,
      "outputs": [
        {
          "output_type": "stream",
          "text": [
            "3/3 - 2s - loss: 0.2140 - accuracy: 0.9423\n",
            "Test accuracy: 0.942307710647583\n",
            "Test loss: 0.21396440267562866\n"
          ],
          "name": "stdout"
        }
      ]
    }
  ]
}