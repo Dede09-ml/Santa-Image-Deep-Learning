{
  "nbformat": 4,
  "nbformat_minor": 0,
  "metadata": {
    "colab": {
      "name": "Bonus Assignment 4_Santa_Tunning_RMSprop.ipynb",
      "provenance": [],
      "collapsed_sections": []
    },
    "kernelspec": {
      "name": "python3",
      "display_name": "Python 3"
    },
    "accelerator": "GPU"
  },
  "cells": [
    {
      "cell_type": "code",
      "metadata": {
        "id": "WZOloDbKCLzF"
      },
      "source": [
        "zip_path = '/content/drive/My\\ Drive/Dataset/Santa_image/santa-dataset.zip'\n",
        "\n",
        "!cp {zip_path} /content/\n",
        "\n",
        "!cd /content/\n",
        "\n",
        "!unzip -q /content/santa-dataset.zip -d /content\n",
        "\n",
        "!rm /content/santa-dataset.zip"
      ],
      "execution_count": null,
      "outputs": []
    },
    {
      "cell_type": "code",
      "metadata": {
        "id": "rIKYFpz6C8Mz"
      },
      "source": [
        "import numpy as np\n",
        "import os\n",
        "import matplotlib.pyplot as plt"
      ],
      "execution_count": null,
      "outputs": []
    },
    {
      "cell_type": "code",
      "metadata": {
        "id": "lQayMEyCC-qR"
      },
      "source": [
        "def plot_loss(history):\n",
        "  plt.plot(history.history['loss'], label='loss')\n",
        "  plt.plot(history.history['val_loss'], label='val_loss')\n",
        "  plt.xlabel('Epoch')\n",
        "  plt.ylabel('Loss')\n",
        "  plt.legend()\n",
        "  plt.grid(True)"
      ],
      "execution_count": null,
      "outputs": []
    },
    {
      "cell_type": "code",
      "metadata": {
        "id": "Ih4eR3IJDAr5",
        "outputId": "f27b6365-b7b3-4f6c-cd10-4860a2709fda",
        "colab": {
          "base_uri": "https://localhost:8080/",
          "height": 440
        }
      },
      "source": [
        "from tensorflow.keras.models import Sequential\n",
        "from tensorflow.keras.layers import Conv2D, MaxPooling2D, Dense, Flatten\n",
        "from tensorflow.keras.optimizers import RMSprop\n",
        "\n",
        "model = Sequential()\n",
        "model.add(Conv2D(32, (3, 3), activation='relu', kernel_initializer='glorot_uniform', padding='same', input_shape=(200, 200, 3)))\n",
        "model.add(MaxPooling2D((2, 2)))\n",
        "\n",
        "model.add(Conv2D(64, (3, 3), activation='relu', kernel_initializer='glorot_uniform', padding='same', input_shape=(200, 200, 3)))\n",
        "model.add(MaxPooling2D((2, 2)))\n",
        "\n",
        "model.add(Conv2D(128, (3, 3), activation='relu', kernel_initializer='glorot_uniform', padding='same', input_shape=(200, 200, 3)))\n",
        "model.add(MaxPooling2D((2, 2)))\n",
        "\n",
        "model.add(Flatten())\n",
        "\n",
        "model.add(Dense(128, activation='relu', kernel_initializer='glorot_uniform'))\n",
        "model.add(Dense(1, activation='sigmoid'))\n",
        "\n",
        "opt = RMSprop(lr=0.001)\n",
        "\n",
        "model.compile(optimizer=opt, loss='binary_crossentropy', metrics=['accuracy'])\n",
        "\n",
        "model.summary()"
      ],
      "execution_count": null,
      "outputs": [
        {
          "output_type": "stream",
          "text": [
            "Model: \"sequential\"\n",
            "_________________________________________________________________\n",
            "Layer (type)                 Output Shape              Param #   \n",
            "=================================================================\n",
            "conv2d (Conv2D)              (None, 200, 200, 32)      896       \n",
            "_________________________________________________________________\n",
            "max_pooling2d (MaxPooling2D) (None, 100, 100, 32)      0         \n",
            "_________________________________________________________________\n",
            "conv2d_1 (Conv2D)            (None, 100, 100, 64)      18496     \n",
            "_________________________________________________________________\n",
            "max_pooling2d_1 (MaxPooling2 (None, 50, 50, 64)        0         \n",
            "_________________________________________________________________\n",
            "conv2d_2 (Conv2D)            (None, 50, 50, 128)       73856     \n",
            "_________________________________________________________________\n",
            "max_pooling2d_2 (MaxPooling2 (None, 25, 25, 128)       0         \n",
            "_________________________________________________________________\n",
            "flatten (Flatten)            (None, 80000)             0         \n",
            "_________________________________________________________________\n",
            "dense (Dense)                (None, 128)               10240128  \n",
            "_________________________________________________________________\n",
            "dense_1 (Dense)              (None, 1)                 129       \n",
            "=================================================================\n",
            "Total params: 10,333,505\n",
            "Trainable params: 10,333,505\n",
            "Non-trainable params: 0\n",
            "_________________________________________________________________\n"
          ],
          "name": "stdout"
        }
      ]
    },
    {
      "cell_type": "code",
      "metadata": {
        "id": "17UDnxHkDG2Z",
        "outputId": "1094e719-d057-4ec6-e39b-6921d3899181",
        "colab": {
          "base_uri": "https://localhost:8080/",
          "height": 50
        }
      },
      "source": [
        "dataset_dir = '/content/santa-dataset'\n",
        "\n",
        "from tensorflow.keras.preprocessing.image import ImageDataGenerator\n",
        "\n",
        "# datagen = ImageDataGenerator(rescale=1.0/255.0)\n",
        "train_datagen = ImageDataGenerator(rescale=1.0/255.0, width_shift_range=0.1, height_shift_range=0.1, horizontal_flip=True)\n",
        "test_datagen = ImageDataGenerator(rescale=1.0/255.0)\n",
        "\n",
        "train_iterator = train_datagen.flow_from_directory(os.path.join(dataset_dir, 'train'), class_mode='binary', batch_size=128, target_size=(200, 200))\n",
        "test_iterator = test_datagen.flow_from_directory(os.path.join(dataset_dir, 'test'), class_mode='binary', batch_size=128, target_size=(200, 200))"
      ],
      "execution_count": null,
      "outputs": [
        {
          "output_type": "stream",
          "text": [
            "Found 662 images belonging to 2 classes.\n",
            "Found 260 images belonging to 2 classes.\n"
          ],
          "name": "stdout"
        }
      ]
    },
    {
      "cell_type": "code",
      "metadata": {
        "id": "eh26T6JsDiBz",
        "outputId": "4fe7c15c-6631-40c3-82c4-240c912091ce",
        "colab": {
          "base_uri": "https://localhost:8080/",
          "height": 1000
        }
      },
      "source": [
        "history_model_tunning = model.fit_generator(train_iterator, steps_per_epoch=len(train_iterator), validation_data=test_iterator, validation_steps=len(test_iterator), epochs=100)"
      ],
      "execution_count": null,
      "outputs": [
        {
          "output_type": "stream",
          "text": [
            "WARNING:tensorflow:From <ipython-input-6-1f33ffb6f417>:1: Model.fit_generator (from tensorflow.python.keras.engine.training) is deprecated and will be removed in a future version.\n",
            "Instructions for updating:\n",
            "Please use Model.fit, which supports generators.\n",
            "Epoch 1/100\n",
            "6/6 [==============================] - 18s 3s/step - loss: 1.7986 - accuracy: 0.5106 - val_loss: 0.7119 - val_accuracy: 0.5000\n",
            "Epoch 2/100\n",
            "6/6 [==============================] - 16s 3s/step - loss: 0.6724 - accuracy: 0.5906 - val_loss: 0.6026 - val_accuracy: 0.5962\n",
            "Epoch 3/100\n",
            "6/6 [==============================] - 16s 3s/step - loss: 0.7662 - accuracy: 0.6148 - val_loss: 0.6313 - val_accuracy: 0.6923\n",
            "Epoch 4/100\n",
            "6/6 [==============================] - 18s 3s/step - loss: 0.6055 - accuracy: 0.6692 - val_loss: 0.5245 - val_accuracy: 0.8462\n",
            "Epoch 5/100\n",
            "6/6 [==============================] - 15s 3s/step - loss: 0.4934 - accuracy: 0.8263 - val_loss: 0.5066 - val_accuracy: 0.8077\n",
            "Epoch 6/100\n",
            "6/6 [==============================] - 15s 3s/step - loss: 0.5095 - accuracy: 0.8051 - val_loss: 0.4463 - val_accuracy: 0.8846\n",
            "Epoch 7/100\n",
            "6/6 [==============================] - 18s 3s/step - loss: 0.5455 - accuracy: 0.7402 - val_loss: 0.4604 - val_accuracy: 0.8577\n",
            "Epoch 8/100\n",
            "6/6 [==============================] - 16s 3s/step - loss: 0.3908 - accuracy: 0.8852 - val_loss: 0.4083 - val_accuracy: 0.8654\n",
            "Epoch 9/100\n",
            "6/6 [==============================] - 16s 3s/step - loss: 0.4640 - accuracy: 0.8233 - val_loss: 0.4158 - val_accuracy: 0.8654\n",
            "Epoch 10/100\n",
            "6/6 [==============================] - 16s 3s/step - loss: 0.4137 - accuracy: 0.8640 - val_loss: 0.4180 - val_accuracy: 0.8692\n",
            "Epoch 11/100\n",
            "6/6 [==============================] - 17s 3s/step - loss: 0.3527 - accuracy: 0.8943 - val_loss: 0.5701 - val_accuracy: 0.7808\n",
            "Epoch 12/100\n",
            "6/6 [==============================] - 18s 3s/step - loss: 0.2967 - accuracy: 0.9063 - val_loss: 0.3322 - val_accuracy: 0.8962\n",
            "Epoch 13/100\n",
            "6/6 [==============================] - 16s 3s/step - loss: 0.4812 - accuracy: 0.8006 - val_loss: 0.4156 - val_accuracy: 0.8615\n",
            "Epoch 14/100\n",
            "6/6 [==============================] - 16s 3s/step - loss: 0.3001 - accuracy: 0.8912 - val_loss: 0.2926 - val_accuracy: 0.9000\n",
            "Epoch 15/100\n",
            "6/6 [==============================] - 16s 3s/step - loss: 0.2225 - accuracy: 0.9124 - val_loss: 0.3566 - val_accuracy: 0.8808\n",
            "Epoch 16/100\n",
            "6/6 [==============================] - 16s 3s/step - loss: 0.3332 - accuracy: 0.8656 - val_loss: 0.2833 - val_accuracy: 0.9000\n",
            "Epoch 17/100\n",
            "6/6 [==============================] - 17s 3s/step - loss: 0.2245 - accuracy: 0.9094 - val_loss: 0.2925 - val_accuracy: 0.9077\n",
            "Epoch 18/100\n",
            "6/6 [==============================] - 16s 3s/step - loss: 0.1804 - accuracy: 0.9335 - val_loss: 0.7481 - val_accuracy: 0.7923\n",
            "Epoch 19/100\n",
            "6/6 [==============================] - 15s 3s/step - loss: 0.4452 - accuracy: 0.8338 - val_loss: 0.2614 - val_accuracy: 0.9000\n",
            "Epoch 20/100\n",
            "6/6 [==============================] - 17s 3s/step - loss: 0.1959 - accuracy: 0.9199 - val_loss: 0.2600 - val_accuracy: 0.9038\n",
            "Epoch 21/100\n",
            "6/6 [==============================] - 16s 3s/step - loss: 0.3221 - accuracy: 0.8550 - val_loss: 0.3167 - val_accuracy: 0.9192\n",
            "Epoch 22/100\n",
            "6/6 [==============================] - 16s 3s/step - loss: 0.2543 - accuracy: 0.9033 - val_loss: 0.2860 - val_accuracy: 0.9038\n",
            "Epoch 23/100\n",
            "6/6 [==============================] - 19s 3s/step - loss: 0.1527 - accuracy: 0.9396 - val_loss: 0.2525 - val_accuracy: 0.9269\n",
            "Epoch 24/100\n",
            "6/6 [==============================] - 15s 3s/step - loss: 0.2130 - accuracy: 0.9109 - val_loss: 0.2367 - val_accuracy: 0.9269\n",
            "Epoch 25/100\n",
            "6/6 [==============================] - 17s 3s/step - loss: 0.2194 - accuracy: 0.9124 - val_loss: 0.2186 - val_accuracy: 0.9231\n",
            "Epoch 26/100\n",
            "6/6 [==============================] - 16s 3s/step - loss: 0.1506 - accuracy: 0.9411 - val_loss: 0.2448 - val_accuracy: 0.9192\n",
            "Epoch 27/100\n",
            "6/6 [==============================] - 17s 3s/step - loss: 0.2587 - accuracy: 0.8943 - val_loss: 0.3169 - val_accuracy: 0.9038\n",
            "Epoch 28/100\n",
            "6/6 [==============================] - 19s 3s/step - loss: 0.1580 - accuracy: 0.9456 - val_loss: 0.3050 - val_accuracy: 0.9038\n",
            "Epoch 29/100\n",
            "6/6 [==============================] - 17s 3s/step - loss: 0.1144 - accuracy: 0.9502 - val_loss: 0.2578 - val_accuracy: 0.9269\n",
            "Epoch 30/100\n",
            "6/6 [==============================] - 17s 3s/step - loss: 0.4665 - accuracy: 0.8308 - val_loss: 0.3030 - val_accuracy: 0.9038\n",
            "Epoch 31/100\n",
            "6/6 [==============================] - 17s 3s/step - loss: 0.1472 - accuracy: 0.9366 - val_loss: 0.5015 - val_accuracy: 0.8346\n",
            "Epoch 32/100\n",
            "6/6 [==============================] - 19s 3s/step - loss: 0.1326 - accuracy: 0.9426 - val_loss: 0.4169 - val_accuracy: 0.8462\n",
            "Epoch 33/100\n",
            "6/6 [==============================] - 16s 3s/step - loss: 0.1558 - accuracy: 0.9350 - val_loss: 0.2733 - val_accuracy: 0.9269\n",
            "Epoch 34/100\n",
            "6/6 [==============================] - 16s 3s/step - loss: 0.2700 - accuracy: 0.9033 - val_loss: 0.8608 - val_accuracy: 0.7192\n",
            "Epoch 35/100\n",
            "6/6 [==============================] - 16s 3s/step - loss: 0.1678 - accuracy: 0.9366 - val_loss: 0.3372 - val_accuracy: 0.9077\n",
            "Epoch 36/100\n",
            "6/6 [==============================] - 16s 3s/step - loss: 0.1091 - accuracy: 0.9532 - val_loss: 0.2076 - val_accuracy: 0.9269\n",
            "Epoch 37/100\n",
            "6/6 [==============================] - 16s 3s/step - loss: 0.1049 - accuracy: 0.9562 - val_loss: 0.3309 - val_accuracy: 0.9038\n",
            "Epoch 38/100\n",
            "6/6 [==============================] - 16s 3s/step - loss: 0.1684 - accuracy: 0.9320 - val_loss: 0.4630 - val_accuracy: 0.8385\n",
            "Epoch 39/100\n",
            "6/6 [==============================] - 15s 3s/step - loss: 0.1475 - accuracy: 0.9381 - val_loss: 0.3661 - val_accuracy: 0.8731\n",
            "Epoch 40/100\n",
            "6/6 [==============================] - 16s 3s/step - loss: 0.1171 - accuracy: 0.9562 - val_loss: 0.2158 - val_accuracy: 0.9385\n",
            "Epoch 41/100\n",
            "6/6 [==============================] - 16s 3s/step - loss: 0.0729 - accuracy: 0.9743 - val_loss: 0.2101 - val_accuracy: 0.9346\n",
            "Epoch 42/100\n",
            "6/6 [==============================] - 15s 3s/step - loss: 0.0877 - accuracy: 0.9622 - val_loss: 0.2036 - val_accuracy: 0.9346\n",
            "Epoch 43/100\n",
            "6/6 [==============================] - 16s 3s/step - loss: 0.1118 - accuracy: 0.9592 - val_loss: 1.0745 - val_accuracy: 0.7038\n",
            "Epoch 44/100\n",
            "6/6 [==============================] - 17s 3s/step - loss: 0.3096 - accuracy: 0.8792 - val_loss: 0.2347 - val_accuracy: 0.9346\n",
            "Epoch 45/100\n",
            "6/6 [==============================] - 18s 3s/step - loss: 0.0981 - accuracy: 0.9607 - val_loss: 0.2521 - val_accuracy: 0.9385\n",
            "Epoch 46/100\n",
            "6/6 [==============================] - 18s 3s/step - loss: 0.0892 - accuracy: 0.9668 - val_loss: 0.2199 - val_accuracy: 0.9346\n",
            "Epoch 47/100\n",
            "6/6 [==============================] - 17s 3s/step - loss: 0.1804 - accuracy: 0.9305 - val_loss: 0.5450 - val_accuracy: 0.8462\n",
            "Epoch 48/100\n",
            "6/6 [==============================] - 16s 3s/step - loss: 0.0663 - accuracy: 0.9758 - val_loss: 0.2133 - val_accuracy: 0.9308\n",
            "Epoch 49/100\n",
            "6/6 [==============================] - 16s 3s/step - loss: 0.0694 - accuracy: 0.9713 - val_loss: 0.3069 - val_accuracy: 0.9308\n",
            "Epoch 50/100\n",
            "6/6 [==============================] - 16s 3s/step - loss: 0.1442 - accuracy: 0.9441 - val_loss: 0.4195 - val_accuracy: 0.9308\n",
            "Epoch 51/100\n",
            "6/6 [==============================] - 16s 3s/step - loss: 0.2362 - accuracy: 0.9366 - val_loss: 0.2805 - val_accuracy: 0.9269\n",
            "Epoch 52/100\n",
            "6/6 [==============================] - 15s 3s/step - loss: 0.0708 - accuracy: 0.9728 - val_loss: 0.2764 - val_accuracy: 0.9423\n",
            "Epoch 53/100\n",
            "6/6 [==============================] - 15s 2s/step - loss: 0.0447 - accuracy: 0.9864 - val_loss: 0.2363 - val_accuracy: 0.9346\n",
            "Epoch 54/100\n",
            "6/6 [==============================] - 15s 3s/step - loss: 0.0330 - accuracy: 0.9909 - val_loss: 0.2020 - val_accuracy: 0.9308\n",
            "Epoch 55/100\n",
            "6/6 [==============================] - 16s 3s/step - loss: 0.0792 - accuracy: 0.9637 - val_loss: 0.3733 - val_accuracy: 0.9115\n",
            "Epoch 56/100\n",
            "6/6 [==============================] - 16s 3s/step - loss: 0.0908 - accuracy: 0.9607 - val_loss: 0.2409 - val_accuracy: 0.9385\n",
            "Epoch 57/100\n",
            "6/6 [==============================] - 15s 3s/step - loss: 0.0443 - accuracy: 0.9864 - val_loss: 0.3683 - val_accuracy: 0.9231\n",
            "Epoch 58/100\n",
            "6/6 [==============================] - 16s 3s/step - loss: 0.0379 - accuracy: 0.9879 - val_loss: 0.4413 - val_accuracy: 0.8154\n",
            "Epoch 59/100\n",
            "6/6 [==============================] - 16s 3s/step - loss: 0.3008 - accuracy: 0.8792 - val_loss: 0.2631 - val_accuracy: 0.9346\n",
            "Epoch 60/100\n",
            "6/6 [==============================] - 18s 3s/step - loss: 0.0387 - accuracy: 0.9819 - val_loss: 0.2769 - val_accuracy: 0.9423\n",
            "Epoch 61/100\n",
            "6/6 [==============================] - 16s 3s/step - loss: 0.0353 - accuracy: 0.9864 - val_loss: 0.2584 - val_accuracy: 0.9346\n",
            "Epoch 62/100\n",
            "6/6 [==============================] - 16s 3s/step - loss: 0.0455 - accuracy: 0.9864 - val_loss: 0.2765 - val_accuracy: 0.9462\n",
            "Epoch 63/100\n",
            "6/6 [==============================] - 16s 3s/step - loss: 0.0850 - accuracy: 0.9698 - val_loss: 1.6617 - val_accuracy: 0.7000\n",
            "Epoch 64/100\n",
            "6/6 [==============================] - 18s 3s/step - loss: 0.1055 - accuracy: 0.9577 - val_loss: 0.2771 - val_accuracy: 0.9308\n",
            "Epoch 65/100\n",
            "6/6 [==============================] - 15s 3s/step - loss: 0.0428 - accuracy: 0.9894 - val_loss: 0.3000 - val_accuracy: 0.9308\n",
            "Epoch 66/100\n",
            "6/6 [==============================] - 18s 3s/step - loss: 0.0784 - accuracy: 0.9653 - val_loss: 0.2653 - val_accuracy: 0.9346\n",
            "Epoch 67/100\n",
            "6/6 [==============================] - 15s 3s/step - loss: 0.0259 - accuracy: 0.9909 - val_loss: 0.2586 - val_accuracy: 0.9308\n",
            "Epoch 68/100\n",
            "6/6 [==============================] - 16s 3s/step - loss: 0.0200 - accuracy: 0.9955 - val_loss: 0.2251 - val_accuracy: 0.9423\n",
            "Epoch 69/100\n",
            "6/6 [==============================] - 15s 3s/step - loss: 0.0250 - accuracy: 0.9924 - val_loss: 1.5541 - val_accuracy: 0.7731\n",
            "Epoch 70/100\n",
            "6/6 [==============================] - 16s 3s/step - loss: 0.4423 - accuracy: 0.8686 - val_loss: 0.3040 - val_accuracy: 0.9308\n",
            "Epoch 71/100\n",
            "6/6 [==============================] - 16s 3s/step - loss: 0.0287 - accuracy: 0.9940 - val_loss: 0.2609 - val_accuracy: 0.9346\n",
            "Epoch 72/100\n",
            "6/6 [==============================] - 16s 3s/step - loss: 0.0225 - accuracy: 0.9924 - val_loss: 0.2941 - val_accuracy: 0.9385\n",
            "Epoch 73/100\n",
            "6/6 [==============================] - 15s 3s/step - loss: 0.0195 - accuracy: 0.9940 - val_loss: 0.2656 - val_accuracy: 0.9423\n",
            "Epoch 74/100\n",
            "6/6 [==============================] - 15s 3s/step - loss: 0.0233 - accuracy: 0.9894 - val_loss: 0.2971 - val_accuracy: 0.9423\n",
            "Epoch 75/100\n",
            "6/6 [==============================] - 16s 3s/step - loss: 0.1022 - accuracy: 0.9517 - val_loss: 0.7571 - val_accuracy: 0.8577\n",
            "Epoch 76/100\n",
            "6/6 [==============================] - 16s 3s/step - loss: 0.0400 - accuracy: 0.9849 - val_loss: 0.2718 - val_accuracy: 0.9385\n",
            "Epoch 77/100\n",
            "6/6 [==============================] - 16s 3s/step - loss: 0.1228 - accuracy: 0.9502 - val_loss: 0.2179 - val_accuracy: 0.9346\n",
            "Epoch 78/100\n",
            "6/6 [==============================] - 15s 3s/step - loss: 0.0293 - accuracy: 0.9955 - val_loss: 0.3978 - val_accuracy: 0.9231\n",
            "Epoch 79/100\n",
            "6/6 [==============================] - 18s 3s/step - loss: 0.0176 - accuracy: 0.9955 - val_loss: 0.2669 - val_accuracy: 0.9346\n",
            "Epoch 80/100\n",
            "6/6 [==============================] - 16s 3s/step - loss: 0.0130 - accuracy: 0.9955 - val_loss: 0.3539 - val_accuracy: 0.9423\n",
            "Epoch 81/100\n",
            "6/6 [==============================] - 16s 3s/step - loss: 0.0320 - accuracy: 0.9834 - val_loss: 1.0700 - val_accuracy: 0.8077\n",
            "Epoch 82/100\n",
            "6/6 [==============================] - 15s 2s/step - loss: 0.3729 - accuracy: 0.9094 - val_loss: 0.3220 - val_accuracy: 0.9308\n",
            "Epoch 83/100\n",
            "6/6 [==============================] - 16s 3s/step - loss: 0.0268 - accuracy: 0.9940 - val_loss: 0.3307 - val_accuracy: 0.9423\n",
            "Epoch 84/100\n",
            "6/6 [==============================] - 16s 3s/step - loss: 0.0199 - accuracy: 0.9955 - val_loss: 0.3033 - val_accuracy: 0.9423\n",
            "Epoch 85/100\n",
            "6/6 [==============================] - 16s 3s/step - loss: 0.0111 - accuracy: 0.9985 - val_loss: 0.3937 - val_accuracy: 0.9385\n",
            "Epoch 86/100\n",
            "6/6 [==============================] - 17s 3s/step - loss: 0.0159 - accuracy: 0.9940 - val_loss: 0.4271 - val_accuracy: 0.9231\n",
            "Epoch 87/100\n",
            "6/6 [==============================] - 16s 3s/step - loss: 0.0151 - accuracy: 0.9940 - val_loss: 0.6798 - val_accuracy: 0.8846\n",
            "Epoch 88/100\n",
            "6/6 [==============================] - 15s 3s/step - loss: 0.1059 - accuracy: 0.9607 - val_loss: 0.2730 - val_accuracy: 0.9269\n",
            "Epoch 89/100\n",
            "6/6 [==============================] - 16s 3s/step - loss: 0.0252 - accuracy: 0.9940 - val_loss: 0.4253 - val_accuracy: 0.9115\n",
            "Epoch 90/100\n",
            "6/6 [==============================] - 15s 3s/step - loss: 0.0123 - accuracy: 0.9985 - val_loss: 0.3160 - val_accuracy: 0.9346\n",
            "Epoch 91/100\n",
            "6/6 [==============================] - 16s 3s/step - loss: 0.0148 - accuracy: 0.9940 - val_loss: 1.7025 - val_accuracy: 0.7846\n",
            "Epoch 92/100\n",
            "6/6 [==============================] - 16s 3s/step - loss: 0.1455 - accuracy: 0.9668 - val_loss: 0.2972 - val_accuracy: 0.9269\n",
            "Epoch 93/100\n",
            "6/6 [==============================] - 16s 3s/step - loss: 0.0210 - accuracy: 0.9955 - val_loss: 0.2937 - val_accuracy: 0.9308\n",
            "Epoch 94/100\n",
            "6/6 [==============================] - 15s 3s/step - loss: 0.0127 - accuracy: 0.9985 - val_loss: 0.3522 - val_accuracy: 0.9308\n",
            "Epoch 95/100\n",
            "6/6 [==============================] - 15s 3s/step - loss: 0.0084 - accuracy: 1.0000 - val_loss: 0.3147 - val_accuracy: 0.9346\n",
            "Epoch 96/100\n",
            "6/6 [==============================] - 16s 3s/step - loss: 0.0058 - accuracy: 1.0000 - val_loss: 0.3450 - val_accuracy: 0.9346\n",
            "Epoch 97/100\n",
            "6/6 [==============================] - 16s 3s/step - loss: 0.0062 - accuracy: 0.9985 - val_loss: 0.3695 - val_accuracy: 0.9346\n",
            "Epoch 98/100\n",
            "6/6 [==============================] - 18s 3s/step - loss: 0.3376 - accuracy: 0.9033 - val_loss: 0.2584 - val_accuracy: 0.9423\n",
            "Epoch 99/100\n",
            "6/6 [==============================] - 16s 3s/step - loss: 0.0315 - accuracy: 0.9879 - val_loss: 0.2777 - val_accuracy: 0.9462\n",
            "Epoch 100/100\n",
            "6/6 [==============================] - 16s 3s/step - loss: 0.0117 - accuracy: 0.9985 - val_loss: 0.2979 - val_accuracy: 0.9385\n"
          ],
          "name": "stdout"
        }
      ]
    },
    {
      "cell_type": "code",
      "metadata": {
        "id": "X5nbeqKyDnLk",
        "outputId": "f684416b-d43f-448d-e0cf-88271de43378",
        "colab": {
          "base_uri": "https://localhost:8080/",
          "height": 278
        }
      },
      "source": [
        "plot_loss(history_model_tunning)"
      ],
      "execution_count": null,
      "outputs": [
        {
          "output_type": "display_data",
          "data": {
            "image/png": "[encoded data removed]",
            "text/plain": [
              "<Figure size 432x288 with 1 Axes>"
            ]
          },
          "metadata": {
            "tags": [],
            "needs_background": "light"
          }
        }
      ]
    },
    {
      "cell_type": "code",
      "metadata": {
        "id": "W8WhzqRKk9zl",
        "outputId": "6bfc025d-5a01-411a-ff7d-a518bd77a19f",
        "colab": {
          "base_uri": "https://localhost:8080/",
          "height": 66
        }
      },
      "source": [
        "loss, accuracy = model.evaluate(test_iterator, verbose=2)\n",
        "\n",
        "print(\"Test accuracy:\", accuracy)\n",
        "print(\"Test loss:\", loss)"
      ],
      "execution_count": null,
      "outputs": [
        {
          "output_type": "stream",
          "text": [
            "3/3 - 2s - loss: 0.2979 - accuracy: 0.9385\n",
            "Test accuracy: 0.9384615421295166\n",
            "Test loss: 0.2978581488132477\n"
          ],
          "name": "stdout"
        }
      ]
    }
  ]
}