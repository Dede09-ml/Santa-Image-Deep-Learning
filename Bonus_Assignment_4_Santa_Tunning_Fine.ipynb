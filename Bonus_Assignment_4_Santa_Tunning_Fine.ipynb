{
  "nbformat": 4,
  "nbformat_minor": 0,
  "metadata": {
    "colab": {
      "name": "Bonus Assignment 4_Santa_Tunning_Fine.ipynb",
      "provenance": [],
      "collapsed_sections": []
    },
    "kernelspec": {
      "name": "python3",
      "display_name": "Python 3"
    },
    "accelerator": "GPU"
  },
  "cells": [
    {
      "cell_type": "code",
      "metadata": {
        "id": "WZOloDbKCLzF"
      },
      "source": [
        "zip_path = '/content/drive/My\\ Drive/Dataset/Santa_image/santa-dataset.zip'\n",
        "\n",
        "!cp {zip_path} /content/\n",
        "\n",
        "!cd /content/\n",
        "\n",
        "!unzip -q /content/santa-dataset.zip -d /content\n",
        "\n",
        "!rm /content/santa-dataset.zip"
      ],
      "execution_count": null,
      "outputs": []
    },
    {
      "cell_type": "code",
      "metadata": {
        "id": "rIKYFpz6C8Mz"
      },
      "source": [
        "import numpy as np\n",
        "import os\n",
        "import matplotlib.pyplot as plt"
      ],
      "execution_count": null,
      "outputs": []
    },
    {
      "cell_type": "code",
      "metadata": {
        "id": "lQayMEyCC-qR"
      },
      "source": [
        "def plot_loss(history):\n",
        "  plt.plot(history.history['loss'], label='loss')\n",
        "  plt.plot(history.history['val_loss'], label='val_loss')\n",
        "  plt.xlabel('Epoch')\n",
        "  plt.ylabel('Loss')\n",
        "  plt.legend()\n",
        "  plt.grid(True)"
      ],
      "execution_count": null,
      "outputs": []
    },
    {
      "cell_type": "code",
      "metadata": {
        "id": "Ih4eR3IJDAr5",
        "outputId": "60f84ca0-f2fd-4900-fb9e-82a8dc6069e1",
        "colab": {
          "base_uri": "https://localhost:8080/",
          "height": 342
        }
      },
      "source": [
        "from tensorflow.keras.models import Sequential\n",
        "from tensorflow.keras.layers import Conv2D, MaxPooling2D, Dense, Flatten\n",
        "from tensorflow.keras.optimizers import Adam\n",
        "# import vgg16\n",
        "from tensorflow.keras.applications import vgg16\n",
        "# import Dropout layers\n",
        "from keras.layers import Dropout\n",
        "\n",
        "vgg_conv = vgg16.VGG16(weights='imagenet', include_top=False, input_shape=(200, 200, 3))\n",
        "for layer in vgg_conv.layers[:]:\n",
        "  layer.trainable = False\n",
        "\n",
        "fine_model = Sequential()\n",
        "fine_model.add(vgg_conv)\n",
        "fine_model.add(Flatten())\n",
        "fine_model.add(Dense(128, activation='relu', kernel_initializer='he_uniform'))\n",
        "fine_model.add(Dropout(0.5))\n",
        "fine_model.add(Dense(1, activation='sigmoid'))\n",
        "\n",
        "opt = Adam(lr=0.001)\n",
        "fine_model.compile(optimizer=opt, loss='binary_crossentropy', metrics=['accuracy'])\n",
        "fine_model.summary()"
      ],
      "execution_count": null,
      "outputs": [
        {
          "output_type": "stream",
          "text": [
            "Downloading data from https://storage.googleapis.com/tensorflow/keras-applications/vgg16/vgg16_weights_tf_dim_ordering_tf_kernels_notop.h5\n",
            "58892288/58889256 [==============================] - 0s 0us/step\n",
            "Model: \"sequential\"\n",
            "_________________________________________________________________\n",
            "Layer (type)                 Output Shape              Param #   \n",
            "=================================================================\n",
            "vgg16 (Functional)           (None, 6, 6, 512)         14714688  \n",
            "_________________________________________________________________\n",
            "flatten (Flatten)            (None, 18432)             0         \n",
            "_________________________________________________________________\n",
            "dense (Dense)                (None, 128)               2359424   \n",
            "_________________________________________________________________\n",
            "dropout (Dropout)            (None, 128)               0         \n",
            "_________________________________________________________________\n",
            "dense_1 (Dense)              (None, 1)                 129       \n",
            "=================================================================\n",
            "Total params: 17,074,241\n",
            "Trainable params: 2,359,553\n",
            "Non-trainable params: 14,714,688\n",
            "_________________________________________________________________\n"
          ],
          "name": "stdout"
        }
      ]
    },
    {
      "cell_type": "code",
      "metadata": {
        "id": "17UDnxHkDG2Z",
        "outputId": "c28d9ad8-e400-4567-b65a-c62478b35746",
        "colab": {
          "base_uri": "https://localhost:8080/",
          "height": 50
        }
      },
      "source": [
        "dataset_dir = '/content/santa-dataset'\n",
        "\n",
        "from tensorflow.keras.preprocessing.image import ImageDataGenerator\n",
        "\n",
        "# datagen = ImageDataGenerator(rescale=1.0/255.0)\n",
        "train_datagen = ImageDataGenerator(rescale=1.0/255.0, width_shift_range=0.1, height_shift_range=0.1, horizontal_flip=True)\n",
        "test_datagen = ImageDataGenerator(rescale=1.0/255.0)\n",
        "\n",
        "train_iterator = train_datagen.flow_from_directory(os.path.join(dataset_dir, 'train'), class_mode='binary', batch_size=128, target_size=(200, 200))\n",
        "test_iterator = test_datagen.flow_from_directory(os.path.join(dataset_dir, 'test'), class_mode='binary', batch_size=128, target_size=(200, 200))"
      ],
      "execution_count": null,
      "outputs": [
        {
          "output_type": "stream",
          "text": [
            "Found 662 images belonging to 2 classes.\n",
            "Found 260 images belonging to 2 classes.\n"
          ],
          "name": "stdout"
        }
      ]
    },
    {
      "cell_type": "code",
      "metadata": {
        "id": "eh26T6JsDiBz",
        "outputId": "bab5da49-62b4-4d0b-f634-b01ea8580b69",
        "colab": {
          "base_uri": "https://localhost:8080/",
          "height": 1000
        }
      },
      "source": [
        "history_model_tunning = fine_model.fit_generator(train_iterator, steps_per_epoch=len(train_iterator), validation_data=test_iterator, validation_steps=len(test_iterator), epochs=100)"
      ],
      "execution_count": null,
      "outputs": [
        {
          "output_type": "stream",
          "text": [
            "WARNING:tensorflow:From <ipython-input-6-82f6fb137e74>:1: Model.fit_generator (from tensorflow.python.keras.engine.training) is deprecated and will be removed in a future version.\n",
            "Instructions for updating:\n",
            "Please use Model.fit, which supports generators.\n",
            "Epoch 1/100\n",
            "6/6 [==============================] - 19s 3s/step - loss: 1.1441 - accuracy: 0.6284 - val_loss: 0.4601 - val_accuracy: 0.7808\n",
            "Epoch 2/100\n",
            "6/6 [==============================] - 18s 3s/step - loss: 0.3314 - accuracy: 0.8640 - val_loss: 0.2114 - val_accuracy: 0.9192\n",
            "Epoch 3/100\n",
            "6/6 [==============================] - 19s 3s/step - loss: 0.2120 - accuracy: 0.9199 - val_loss: 0.1853 - val_accuracy: 0.9423\n",
            "Epoch 4/100\n",
            "6/6 [==============================] - 21s 3s/step - loss: 0.1541 - accuracy: 0.9260 - val_loss: 0.1679 - val_accuracy: 0.9423\n",
            "Epoch 5/100\n",
            "6/6 [==============================] - 19s 3s/step - loss: 0.1374 - accuracy: 0.9517 - val_loss: 0.1961 - val_accuracy: 0.9385\n",
            "Epoch 6/100\n",
            "6/6 [==============================] - 19s 3s/step - loss: 0.1334 - accuracy: 0.9471 - val_loss: 0.1380 - val_accuracy: 0.9577\n",
            "Epoch 7/100\n",
            "6/6 [==============================] - 17s 3s/step - loss: 0.0944 - accuracy: 0.9668 - val_loss: 0.1342 - val_accuracy: 0.9615\n",
            "Epoch 8/100\n",
            "6/6 [==============================] - 17s 3s/step - loss: 0.0761 - accuracy: 0.9743 - val_loss: 0.1395 - val_accuracy: 0.9615\n",
            "Epoch 9/100\n",
            "6/6 [==============================] - 17s 3s/step - loss: 0.0894 - accuracy: 0.9622 - val_loss: 0.1442 - val_accuracy: 0.9577\n",
            "Epoch 10/100\n",
            "6/6 [==============================] - 18s 3s/step - loss: 0.0789 - accuracy: 0.9668 - val_loss: 0.1290 - val_accuracy: 0.9654\n",
            "Epoch 11/100\n",
            "6/6 [==============================] - 18s 3s/step - loss: 0.0581 - accuracy: 0.9819 - val_loss: 0.1295 - val_accuracy: 0.9692\n",
            "Epoch 12/100\n",
            "6/6 [==============================] - 16s 3s/step - loss: 0.0644 - accuracy: 0.9834 - val_loss: 0.1258 - val_accuracy: 0.9692\n",
            "Epoch 13/100\n",
            "6/6 [==============================] - 18s 3s/step - loss: 0.0647 - accuracy: 0.9834 - val_loss: 0.1264 - val_accuracy: 0.9692\n",
            "Epoch 14/100\n",
            "6/6 [==============================] - 18s 3s/step - loss: 0.0612 - accuracy: 0.9773 - val_loss: 0.1304 - val_accuracy: 0.9692\n",
            "Epoch 15/100\n",
            "6/6 [==============================] - 17s 3s/step - loss: 0.0457 - accuracy: 0.9879 - val_loss: 0.1482 - val_accuracy: 0.9538\n",
            "Epoch 16/100\n",
            "6/6 [==============================] - 17s 3s/step - loss: 0.0472 - accuracy: 0.9819 - val_loss: 0.1366 - val_accuracy: 0.9692\n",
            "Epoch 17/100\n",
            "6/6 [==============================] - 17s 3s/step - loss: 0.0377 - accuracy: 0.9924 - val_loss: 0.1367 - val_accuracy: 0.9654\n",
            "Epoch 18/100\n",
            "6/6 [==============================] - 16s 3s/step - loss: 0.0357 - accuracy: 0.9879 - val_loss: 0.1393 - val_accuracy: 0.9577\n",
            "Epoch 19/100\n",
            "6/6 [==============================] - 19s 3s/step - loss: 0.0298 - accuracy: 0.9909 - val_loss: 0.1370 - val_accuracy: 0.9654\n",
            "Epoch 20/100\n",
            "6/6 [==============================] - 20s 3s/step - loss: 0.0297 - accuracy: 0.9909 - val_loss: 0.1400 - val_accuracy: 0.9692\n",
            "Epoch 21/100\n",
            "6/6 [==============================] - 17s 3s/step - loss: 0.0263 - accuracy: 0.9940 - val_loss: 0.1333 - val_accuracy: 0.9654\n",
            "Epoch 22/100\n",
            "6/6 [==============================] - 17s 3s/step - loss: 0.0267 - accuracy: 0.9940 - val_loss: 0.1343 - val_accuracy: 0.9654\n",
            "Epoch 23/100\n",
            "6/6 [==============================] - 19s 3s/step - loss: 0.0169 - accuracy: 0.9985 - val_loss: 0.1398 - val_accuracy: 0.9692\n",
            "Epoch 24/100\n",
            "6/6 [==============================] - 17s 3s/step - loss: 0.0225 - accuracy: 0.9940 - val_loss: 0.1465 - val_accuracy: 0.9654\n",
            "Epoch 25/100\n",
            "6/6 [==============================] - 17s 3s/step - loss: 0.0199 - accuracy: 0.9940 - val_loss: 0.1381 - val_accuracy: 0.9692\n",
            "Epoch 26/100\n",
            "6/6 [==============================] - 16s 3s/step - loss: 0.0198 - accuracy: 0.9970 - val_loss: 0.1473 - val_accuracy: 0.9577\n",
            "Epoch 27/100\n",
            "6/6 [==============================] - 17s 3s/step - loss: 0.0144 - accuracy: 0.9985 - val_loss: 0.1371 - val_accuracy: 0.9692\n",
            "Epoch 28/100\n",
            "6/6 [==============================] - 16s 3s/step - loss: 0.0153 - accuracy: 0.9970 - val_loss: 0.1430 - val_accuracy: 0.9692\n",
            "Epoch 29/100\n",
            "6/6 [==============================] - 17s 3s/step - loss: 0.0115 - accuracy: 0.9985 - val_loss: 0.1414 - val_accuracy: 0.9692\n",
            "Epoch 30/100\n",
            "6/6 [==============================] - 18s 3s/step - loss: 0.0139 - accuracy: 0.9970 - val_loss: 0.1435 - val_accuracy: 0.9692\n",
            "Epoch 31/100\n",
            "6/6 [==============================] - 17s 3s/step - loss: 0.0118 - accuracy: 0.9985 - val_loss: 0.1437 - val_accuracy: 0.9692\n",
            "Epoch 32/100\n",
            "6/6 [==============================] - 17s 3s/step - loss: 0.0133 - accuracy: 0.9955 - val_loss: 0.1580 - val_accuracy: 0.9577\n",
            "Epoch 33/100\n",
            "6/6 [==============================] - 18s 3s/step - loss: 0.0205 - accuracy: 0.9940 - val_loss: 0.1511 - val_accuracy: 0.9615\n",
            "Epoch 34/100\n",
            "6/6 [==============================] - 17s 3s/step - loss: 0.0161 - accuracy: 0.9970 - val_loss: 0.1400 - val_accuracy: 0.9692\n",
            "Epoch 35/100\n",
            "6/6 [==============================] - 17s 3s/step - loss: 0.0145 - accuracy: 0.9985 - val_loss: 0.1730 - val_accuracy: 0.9538\n",
            "Epoch 36/100\n",
            "6/6 [==============================] - 18s 3s/step - loss: 0.0188 - accuracy: 0.9955 - val_loss: 0.1589 - val_accuracy: 0.9692\n",
            "Epoch 37/100\n",
            "6/6 [==============================] - 17s 3s/step - loss: 0.0242 - accuracy: 0.9924 - val_loss: 0.1723 - val_accuracy: 0.9500\n",
            "Epoch 38/100\n",
            "6/6 [==============================] - 18s 3s/step - loss: 0.0288 - accuracy: 0.9924 - val_loss: 0.1428 - val_accuracy: 0.9692\n",
            "Epoch 39/100\n",
            "6/6 [==============================] - 16s 3s/step - loss: 0.0213 - accuracy: 0.9940 - val_loss: 0.1336 - val_accuracy: 0.9769\n",
            "Epoch 40/100\n",
            "6/6 [==============================] - 20s 3s/step - loss: 0.0129 - accuracy: 0.9970 - val_loss: 0.1636 - val_accuracy: 0.9577\n",
            "Epoch 41/100\n",
            "6/6 [==============================] - 18s 3s/step - loss: 0.0107 - accuracy: 1.0000 - val_loss: 0.1574 - val_accuracy: 0.9577\n",
            "Epoch 42/100\n",
            "6/6 [==============================] - 16s 3s/step - loss: 0.0087 - accuracy: 1.0000 - val_loss: 0.1440 - val_accuracy: 0.9731\n",
            "Epoch 43/100\n",
            "6/6 [==============================] - 18s 3s/step - loss: 0.0102 - accuracy: 0.9985 - val_loss: 0.1505 - val_accuracy: 0.9692\n",
            "Epoch 44/100\n",
            "6/6 [==============================] - 17s 3s/step - loss: 0.0069 - accuracy: 1.0000 - val_loss: 0.1676 - val_accuracy: 0.9577\n",
            "Epoch 45/100\n",
            "6/6 [==============================] - 17s 3s/step - loss: 0.0097 - accuracy: 0.9970 - val_loss: 0.1496 - val_accuracy: 0.9731\n",
            "Epoch 46/100\n",
            "6/6 [==============================] - 17s 3s/step - loss: 0.0103 - accuracy: 0.9955 - val_loss: 0.1495 - val_accuracy: 0.9692\n",
            "Epoch 47/100\n",
            "6/6 [==============================] - 19s 3s/step - loss: 0.0068 - accuracy: 1.0000 - val_loss: 0.1637 - val_accuracy: 0.9615\n",
            "Epoch 48/100\n",
            "6/6 [==============================] - 20s 3s/step - loss: 0.0059 - accuracy: 1.0000 - val_loss: 0.1505 - val_accuracy: 0.9692\n",
            "Epoch 49/100\n",
            "6/6 [==============================] - 17s 3s/step - loss: 0.0065 - accuracy: 0.9985 - val_loss: 0.1622 - val_accuracy: 0.9615\n",
            "Epoch 50/100\n",
            "6/6 [==============================] - 17s 3s/step - loss: 0.0100 - accuracy: 0.9985 - val_loss: 0.1375 - val_accuracy: 0.9692\n",
            "Epoch 51/100\n",
            "6/6 [==============================] - 18s 3s/step - loss: 0.0143 - accuracy: 0.9955 - val_loss: 0.1382 - val_accuracy: 0.9692\n",
            "Epoch 52/100\n",
            "6/6 [==============================] - 17s 3s/step - loss: 0.0063 - accuracy: 0.9985 - val_loss: 0.1579 - val_accuracy: 0.9615\n",
            "Epoch 53/100\n",
            "6/6 [==============================] - 18s 3s/step - loss: 0.0054 - accuracy: 1.0000 - val_loss: 0.1584 - val_accuracy: 0.9615\n",
            "Epoch 54/100\n",
            "6/6 [==============================] - 17s 3s/step - loss: 0.0075 - accuracy: 0.9985 - val_loss: 0.1493 - val_accuracy: 0.9731\n",
            "Epoch 55/100\n",
            "6/6 [==============================] - 16s 3s/step - loss: 0.0068 - accuracy: 0.9985 - val_loss: 0.1523 - val_accuracy: 0.9615\n",
            "Epoch 56/100\n",
            "6/6 [==============================] - 17s 3s/step - loss: 0.0037 - accuracy: 1.0000 - val_loss: 0.1612 - val_accuracy: 0.9615\n",
            "Epoch 57/100\n",
            "6/6 [==============================] - 18s 3s/step - loss: 0.0059 - accuracy: 0.9985 - val_loss: 0.1614 - val_accuracy: 0.9615\n",
            "Epoch 58/100\n",
            "6/6 [==============================] - 17s 3s/step - loss: 0.0059 - accuracy: 1.0000 - val_loss: 0.1741 - val_accuracy: 0.9538\n",
            "Epoch 59/100\n",
            "6/6 [==============================] - 17s 3s/step - loss: 0.0052 - accuracy: 1.0000 - val_loss: 0.1587 - val_accuracy: 0.9654\n",
            "Epoch 60/100\n",
            "6/6 [==============================] - 17s 3s/step - loss: 0.0082 - accuracy: 0.9985 - val_loss: 0.1548 - val_accuracy: 0.9692\n",
            "Epoch 61/100\n",
            "6/6 [==============================] - 16s 3s/step - loss: 0.0044 - accuracy: 1.0000 - val_loss: 0.1628 - val_accuracy: 0.9654\n",
            "Epoch 62/100\n",
            "6/6 [==============================] - 17s 3s/step - loss: 0.0057 - accuracy: 0.9985 - val_loss: 0.1633 - val_accuracy: 0.9654\n",
            "Epoch 63/100\n",
            "6/6 [==============================] - 20s 3s/step - loss: 0.0058 - accuracy: 0.9985 - val_loss: 0.1643 - val_accuracy: 0.9654\n",
            "Epoch 64/100\n",
            "6/6 [==============================] - 18s 3s/step - loss: 0.0065 - accuracy: 0.9985 - val_loss: 0.1652 - val_accuracy: 0.9692\n",
            "Epoch 65/100\n",
            "6/6 [==============================] - 18s 3s/step - loss: 0.0057 - accuracy: 1.0000 - val_loss: 0.1817 - val_accuracy: 0.9577\n",
            "Epoch 66/100\n",
            "6/6 [==============================] - 17s 3s/step - loss: 0.0035 - accuracy: 0.9985 - val_loss: 0.1625 - val_accuracy: 0.9692\n",
            "Epoch 67/100\n",
            "6/6 [==============================] - 17s 3s/step - loss: 0.0036 - accuracy: 1.0000 - val_loss: 0.1591 - val_accuracy: 0.9692\n",
            "Epoch 68/100\n",
            "6/6 [==============================] - 18s 3s/step - loss: 0.0036 - accuracy: 1.0000 - val_loss: 0.1677 - val_accuracy: 0.9654\n",
            "Epoch 69/100\n",
            "6/6 [==============================] - 17s 3s/step - loss: 0.0021 - accuracy: 1.0000 - val_loss: 0.1749 - val_accuracy: 0.9654\n",
            "Epoch 70/100\n",
            "6/6 [==============================] - 17s 3s/step - loss: 0.0034 - accuracy: 1.0000 - val_loss: 0.1784 - val_accuracy: 0.9615\n",
            "Epoch 71/100\n",
            "6/6 [==============================] - 17s 3s/step - loss: 0.0016 - accuracy: 1.0000 - val_loss: 0.1910 - val_accuracy: 0.9577\n",
            "Epoch 72/100\n",
            "6/6 [==============================] - 18s 3s/step - loss: 0.0057 - accuracy: 0.9985 - val_loss: 0.1755 - val_accuracy: 0.9654\n",
            "Epoch 73/100\n",
            "6/6 [==============================] - 17s 3s/step - loss: 0.0033 - accuracy: 1.0000 - val_loss: 0.1649 - val_accuracy: 0.9692\n",
            "Epoch 74/100\n",
            "6/6 [==============================] - 17s 3s/step - loss: 0.0053 - accuracy: 0.9985 - val_loss: 0.1900 - val_accuracy: 0.9577\n",
            "Epoch 75/100\n",
            "6/6 [==============================] - 17s 3s/step - loss: 0.0049 - accuracy: 0.9985 - val_loss: 0.1922 - val_accuracy: 0.9577\n",
            "Epoch 76/100\n",
            "6/6 [==============================] - 17s 3s/step - loss: 0.0029 - accuracy: 1.0000 - val_loss: 0.1631 - val_accuracy: 0.9692\n",
            "Epoch 77/100\n",
            "6/6 [==============================] - 19s 3s/step - loss: 0.0028 - accuracy: 1.0000 - val_loss: 0.1636 - val_accuracy: 0.9731\n",
            "Epoch 78/100\n",
            "6/6 [==============================] - 20s 3s/step - loss: 0.0048 - accuracy: 1.0000 - val_loss: 0.2088 - val_accuracy: 0.9538\n",
            "Epoch 79/100\n",
            "6/6 [==============================] - 17s 3s/step - loss: 0.0045 - accuracy: 0.9985 - val_loss: 0.1921 - val_accuracy: 0.9538\n",
            "Epoch 80/100\n",
            "6/6 [==============================] - 17s 3s/step - loss: 0.0033 - accuracy: 1.0000 - val_loss: 0.1662 - val_accuracy: 0.9615\n",
            "Epoch 81/100\n",
            "6/6 [==============================] - 19s 3s/step - loss: 0.0030 - accuracy: 0.9985 - val_loss: 0.1654 - val_accuracy: 0.9731\n",
            "Epoch 82/100\n",
            "6/6 [==============================] - 16s 3s/step - loss: 0.0030 - accuracy: 0.9985 - val_loss: 0.1792 - val_accuracy: 0.9615\n",
            "Epoch 83/100\n",
            "6/6 [==============================] - 17s 3s/step - loss: 0.0017 - accuracy: 1.0000 - val_loss: 0.1944 - val_accuracy: 0.9538\n",
            "Epoch 84/100\n",
            "6/6 [==============================] - 17s 3s/step - loss: 0.0038 - accuracy: 1.0000 - val_loss: 0.1731 - val_accuracy: 0.9654\n",
            "Epoch 85/100\n",
            "6/6 [==============================] - 19s 3s/step - loss: 0.0026 - accuracy: 1.0000 - val_loss: 0.1687 - val_accuracy: 0.9654\n",
            "Epoch 86/100\n",
            "6/6 [==============================] - 17s 3s/step - loss: 0.0033 - accuracy: 1.0000 - val_loss: 0.1744 - val_accuracy: 0.9654\n",
            "Epoch 87/100\n",
            "6/6 [==============================] - 19s 3s/step - loss: 0.0048 - accuracy: 0.9985 - val_loss: 0.1821 - val_accuracy: 0.9615\n",
            "Epoch 88/100\n",
            "6/6 [==============================] - 17s 3s/step - loss: 0.0051 - accuracy: 0.9985 - val_loss: 0.1870 - val_accuracy: 0.9538\n",
            "Epoch 89/100\n",
            "6/6 [==============================] - 16s 3s/step - loss: 0.0019 - accuracy: 1.0000 - val_loss: 0.1769 - val_accuracy: 0.9615\n",
            "Epoch 90/100\n",
            "6/6 [==============================] - 17s 3s/step - loss: 0.0031 - accuracy: 1.0000 - val_loss: 0.1642 - val_accuracy: 0.9692\n",
            "Epoch 91/100\n",
            "6/6 [==============================] - 18s 3s/step - loss: 0.0029 - accuracy: 1.0000 - val_loss: 0.1725 - val_accuracy: 0.9654\n",
            "Epoch 92/100\n",
            "6/6 [==============================] - 17s 3s/step - loss: 0.0025 - accuracy: 1.0000 - val_loss: 0.1822 - val_accuracy: 0.9615\n",
            "Epoch 93/100\n",
            "6/6 [==============================] - 17s 3s/step - loss: 0.0014 - accuracy: 1.0000 - val_loss: 0.1806 - val_accuracy: 0.9615\n",
            "Epoch 94/100\n",
            "6/6 [==============================] - 18s 3s/step - loss: 0.0017 - accuracy: 1.0000 - val_loss: 0.1754 - val_accuracy: 0.9654\n",
            "Epoch 95/100\n",
            "6/6 [==============================] - 20s 3s/step - loss: 0.0012 - accuracy: 1.0000 - val_loss: 0.1748 - val_accuracy: 0.9654\n",
            "Epoch 96/100\n",
            "6/6 [==============================] - 18s 3s/step - loss: 0.0013 - accuracy: 1.0000 - val_loss: 0.1833 - val_accuracy: 0.9615\n",
            "Epoch 97/100\n",
            "6/6 [==============================] - 18s 3s/step - loss: 0.0013 - accuracy: 1.0000 - val_loss: 0.1931 - val_accuracy: 0.9577\n",
            "Epoch 98/100\n",
            "6/6 [==============================] - 17s 3s/step - loss: 0.0034 - accuracy: 0.9985 - val_loss: 0.1835 - val_accuracy: 0.9615\n",
            "Epoch 99/100\n",
            "6/6 [==============================] - 17s 3s/step - loss: 9.7560e-04 - accuracy: 1.0000 - val_loss: 0.1762 - val_accuracy: 0.9692\n",
            "Epoch 100/100\n",
            "6/6 [==============================] - 20s 3s/step - loss: 0.0048 - accuracy: 1.0000 - val_loss: 0.2702 - val_accuracy: 0.9423\n"
          ],
          "name": "stdout"
        }
      ]
    },
    {
      "cell_type": "code",
      "metadata": {
        "id": "X5nbeqKyDnLk",
        "outputId": "2ca36487-0575-4f3c-c083-c4330d1d8e9a",
        "colab": {
          "base_uri": "https://localhost:8080/",
          "height": 282
        }
      },
      "source": [
        "plot_loss(history_model_tunning)"
      ],
      "execution_count": null,
      "outputs": [
        {
          "output_type": "display_data",
          "data": {
            "image/png": "[encoded data removed]",
            "text/plain": [
              "<Figure size 432x288 with 1 Axes>"
            ]
          },
          "metadata": {
            "tags": [],
            "needs_background": "light"
          }
        }
      ]
    },
    {
      "cell_type": "code",
      "metadata": {
        "id": "W8WhzqRKk9zl",
        "outputId": "c89fd407-fddf-4802-d687-069ecc4656ce",
        "colab": {
          "base_uri": "https://localhost:8080/",
          "height": 66
        }
      },
      "source": [
        "loss, accuracy = fine_model.evaluate(test_iterator, verbose=2)\n",
        "\n",
        "print(\"Test accuracy:\", accuracy)\n",
        "print(\"Test loss:\", loss)"
      ],
      "execution_count": null,
      "outputs": [
        {
          "output_type": "stream",
          "text": [
            "3/3 - 3s - loss: 0.2702 - accuracy: 0.9423\n",
            "Test accuracy: 0.942307710647583\n",
            "Test loss: 0.2701703608036041\n"
          ],
          "name": "stdout"
        }
      ]
    }
  ]
}